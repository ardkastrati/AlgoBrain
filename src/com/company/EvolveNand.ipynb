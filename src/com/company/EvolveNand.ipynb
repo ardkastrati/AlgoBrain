{
 "cells": [
  {
   "cell_type": "code",
   "execution_count": 1,
   "metadata": {},
   "outputs": [],
   "source": [
    "# Here I will be attempting to evolve NAND from scratch and track the organism's full lineage\n",
    "\n",
    "# This will give me an idea of how lineages can be stored intelligently, how much space they take and so on\n",
    "\n",
    "# Will also give me a good idea of the runtime"
   ]
  },
  {
   "cell_type": "code",
   "execution_count": 1,
   "metadata": {},
   "outputs": [],
   "source": [
    "# Add Backend to path\n",
    "import sys\n",
    "sys.path.append('C:/Users/eeveetza/Documents/GitHub/AlgoBrain_local/Backend')\n",
    "\n",
    "from Environment import World\n",
    "from Experiment import Experiment"
   ]
  },
  {
   "cell_type": "markdown",
   "metadata": {},
   "source": [
    "The default experiment starts with a default organism and stops when an organism that can compute NAND has evolved\n",
    "\n",
    "The argument experiment.first_specimen returns the program which was reported to be able to copmute NAND"
   ]
  },
  {
   "cell_type": "code",
   "execution_count": 2,
   "metadata": {},
   "outputs": [
    {
     "name": "stdout",
     "output_type": "stream",
     "text": [
      "Notifying experiment of NAND\n",
      "REACTING ON NAND\n",
      "Notifying experiment of function_IO\n",
      "Reacting on IO\n",
      "599009878 3443224274 4275033517\n",
      "Test passed\n",
      "Notifying experiment of function_IO\n",
      "Reacting on IO\n",
      "1840219768 612779228 3682204583\n",
      "Test passed\n",
      "Notifying experiment of function_IO\n",
      "Reacting on IO\n",
      "921502164 1455197215 3914596331\n",
      "Test passed\n",
      "Notifying experiment of function_IO\n",
      "Reacting on IO\n",
      "3086519851 1436405458 3932647933\n",
      "Test passed\n",
      "Notifying experiment of function_IO\n",
      "Reacting on IO\n",
      "3240854447 545076575 4292280048\n",
      "Test passed\n",
      "Notifying experiment of function_IO\n",
      "Reacting on IO\n",
      "1237069241 1361624224 3201815391\n",
      "Test passed\n",
      "Notifying experiment of function_IO\n",
      "Reacting on IO\n",
      "3488895615 307177814 4256956329\n",
      "Test passed\n",
      "Notifying experiment of function_IO\n",
      "Reacting on IO\n",
      "2675144114 2529075579 1775099597\n",
      "Test passed\n",
      "Notifying experiment of function_IO\n",
      "Reacting on IO\n",
      "342519763 3950934619 4287993260\n",
      "Test passed\n"
     ]
    }
   ],
   "source": [
    "experiment = Experiment()\n",
    "experiment.run()"
   ]
  },
  {
   "cell_type": "code",
   "execution_count": 3,
   "metadata": {},
   "outputs": [
    {
     "name": "stdout",
     "output_type": "stream",
     "text": [
      "[23, 20, 2, 0, 21, 2, 6, 1, 19, 13, 18, 2, 25, 9, 2, 18, 16, 15, 15, 2, 2, 2, 18, 7, 2, 2, 2, 18, 2, 20, 10, 8, 18, 6, 4, 19, 8, 8, 17, 2, 6, 20, 19, 25, 2, 0, 17, 21, 0, 1]\n"
     ]
    }
   ],
   "source": [
    "print(experiment.first_specimen)"
   ]
  },
  {
   "cell_type": "code",
   "execution_count": 22,
   "metadata": {},
   "outputs": [],
   "source": [
    "# This organism has reported that it can compute NAND, and indeed it can\n",
    "nand0 = [25, 2, 0, 21, 2, 23, 2, 18, 16, 25, 2, 9, 24, 2, 2, 2, 7, 12, 2, 25, 2, 6, 15, 2, 23, 10, 12, 13, 2,\\\n",
    "        0, 18, 22, 8, 16, 2, 2, 14, 2, 18, 2, 15, 19, 25, 2, 0, 17, 21, 0, 1]"
   ]
  },
  {
   "cell_type": "code",
   "execution_count": 23,
   "metadata": {},
   "outputs": [
    {
     "name": "stdout",
     "output_type": "stream",
     "text": [
      "\n",
      "EMULATOR AT POSITION (0, 0) COMPUTED NAND\n",
      "INPUT: [2737417631 1248468083]\n",
      "OUTPUT:  4258788332\n"
     ]
    }
   ],
   "source": [
    "world = World(1, replacement_strategy = \"neighborhood\", cm_prob = 0, ins_prob = 0, del_prob = 0, notify_ = True)\n",
    "\n",
    "world.place_custom(nand0)\n",
    "\n",
    "world.schedule(80)"
   ]
  },
  {
   "cell_type": "code",
   "execution_count": 24,
   "metadata": {},
   "outputs": [],
   "source": [
    "# However it seems to not exhibit very stable behaviour"
   ]
  },
  {
   "cell_type": "code",
   "execution_count": 28,
   "metadata": {},
   "outputs": [
    {
     "name": "stdout",
     "output_type": "stream",
     "text": [
      "\n",
      "EMULATOR AT POSITION (0, 0) COMPUTED NAND\n",
      "INPUT: [1890493126 3285598052]\n",
      "OUTPUT:  3212434875\n",
      "\n",
      "EMULATOR AT POSITION (0, 0) COMPUTED NAND\n",
      "INPUT: [3112505611 2226967559]\n",
      "OUTPUT:  2138828796\n",
      "\n",
      "EMULATOR AT POSITION (0, 0) COMPUTED NAND\n",
      "INPUT: [1745483728  390324669]\n",
      "OUTPUT:  4294844015\n",
      "\n",
      "EMULATOR AT POSITION (0, 0) COMPUTED NAND\n",
      "INPUT: [1876868347  686147697]\n",
      "OUTPUT:  3610998670\n",
      "\n",
      "EMULATOR AT POSITION (0, 0) COMPUTED NAND\n",
      "INPUT: [752665853 686049580]\n",
      "OUTPUT:  3611017171\n"
     ]
    }
   ],
   "source": [
    "for i in range(10):\n",
    "    \n",
    "    world = World(1, replacement_strategy = \"neighborhood\", cm_prob = 0, ins_prob = 0, del_prob = 0, notify_ = True)\n",
    "\n",
    "    world.place_custom(nand0)\n",
    "\n",
    "    world.schedule(80)"
   ]
  },
  {
   "cell_type": "code",
   "execution_count": null,
   "metadata": {},
   "outputs": [],
   "source": [
    "# Kind of weird behavior"
   ]
  },
  {
   "cell_type": "code",
   "execution_count": 4,
   "metadata": {},
   "outputs": [],
   "source": [
    "nand1 = [2, 2, 2, 0, 21, 2, 7, 16, 15, 2, 2, 20, 2, 25, 2, 2, 17, 8, 10, 15, 1, 15, 6, 5, 2, 6, 12, 2, 2, 3, 2, 14,\\\n",
    "         2, 0, 23, 18, 2, 8, 15, 4, 14, 18, 19, 25, 2, 16, 17, 21, 0, 1]\n",
    "\n",
    "nand2 = [16, 9, 2, 0, 21, 2, 2, 8, 15, 2, 18, 2, 15, 11, 19, 2, 4, 8, 3, 2, 24, 2, 25, 2, 8, 6, 2, 25, 16, 3, 18, 13,\\\n",
    "         15, 2, 2, 2, 2, 8, 25, 4, 12, 23, 19, 25, 2, 0, 17, 14, 0, 1]\n",
    "\n",
    "nand3 = [19, 20, 2, 0, 21, 2, 2, 18, 7, 8, 18, 2, 2, 7, 2, 2, 2, 2, 15, 18, 4, 11, 25, 11, 6, 16, 1, 9, 2, 2, 2, 1, 2,\\\n",
    "         2, 9, 14, 2, 2, 2, 2, 20, 20, 19, 25, 2, 0, 17, 21, 0, 1]"
   ]
  },
  {
   "cell_type": "code",
   "execution_count": 5,
   "metadata": {},
   "outputs": [
    {
     "name": "stdout",
     "output_type": "stream",
     "text": [
      "\n",
      "EMULATOR AT POSITION (0, 0) COMPUTED NAND\n",
      "INPUT: [4067384876  651896568]\n",
      "OUTPUT:  3719625175\n",
      "\n",
      "EMULATOR AT POSITION (0, 0) COMPUTED NAND\n",
      "INPUT: [1241367266 3693498861]\n",
      "OUTPUT:  3084631839\n",
      "\n",
      "EMULATOR AT POSITION (0, 0) COMPUTED NAND\n",
      "INPUT: [3799906377 2178664448]\n",
      "OUTPUT:  2141599743\n",
      "\n",
      "EMULATOR AT POSITION (0, 0) COMPUTED NAND\n",
      "INPUT: [2595744215 4084388280]\n",
      "OUTPUT:  1842167407\n",
      "\n",
      "EMULATOR AT POSITION (0, 0) COMPUTED NAND\n",
      "INPUT: [4002736723   95338849]\n",
      "OUTPUT:  4219158462\n",
      "\n",
      "EMULATOR AT POSITION (0, 0) COMPUTED NAND\n",
      "INPUT: [3023749387 2161512029]\n",
      "OUTPUT:  2146303990\n",
      "\n",
      "EMULATOR AT POSITION (0, 0) COMPUTED NAND\n",
      "INPUT: [3409491199 1711722687]\n",
      "OUTPUT:  3187633984\n",
      "\n",
      "EMULATOR AT POSITION (0, 0) COMPUTED NAND\n",
      "INPUT: [2915817820 1540331948]\n",
      "OUTPUT:  4130629363\n",
      "\n",
      "EMULATOR AT POSITION (0, 0) COMPUTED NAND\n",
      "INPUT: [ 310733787 2827585088]\n",
      "OUTPUT:  4286512575\n",
      "\n",
      "EMULATOR AT POSITION (0, 0) COMPUTED NAND\n",
      "INPUT: [4237818015 1466267393]\n",
      "OUTPUT:  2885324798\n"
     ]
    }
   ],
   "source": [
    "for i in range(10):\n",
    "    \n",
    "    world = World(1, replacement_strategy = \"neighborhood\", cm_prob = 0, ins_prob = 0, del_prob = 0, notify_ = True)\n",
    "\n",
    "    world.place_custom(nand3)\n",
    "\n",
    "    world.schedule(100)"
   ]
  },
  {
   "cell_type": "markdown",
   "metadata": {},
   "source": [
    "Much more stable behavior"
   ]
  },
  {
   "cell_type": "markdown",
   "metadata": {},
   "source": [
    "What the hell is happening here? On some runs it computes six nands, on other runs only three/four. Why is this unstable?\n",
    "\n",
    "To answer this question I would probably need to look at how exactly the program works and I'm not ready to do that"
   ]
  },
  {
   "cell_type": "code",
   "execution_count": null,
   "metadata": {},
   "outputs": [],
   "source": [
    "# Current goal: Evolve NAND and fully track its lineage"
   ]
  }
 ],
 "metadata": {
  "kernelspec": {
   "display_name": "Python 3",
   "language": "python",
   "name": "python3"
  },
  "language_info": {
   "codemirror_mode": {
    "name": "ipython",
    "version": 3
   },
   "file_extension": ".py",
   "mimetype": "text/x-python",
   "name": "python",
   "nbconvert_exporter": "python",
   "pygments_lexer": "ipython3",
   "version": "3.8.5"
  }
 },
 "nbformat": 4,
 "nbformat_minor": 4
}
