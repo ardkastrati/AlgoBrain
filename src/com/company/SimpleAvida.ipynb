{
 "cells": [
  {
   "cell_type": "code",
   "execution_count": 149,
   "metadata": {},
   "outputs": [],
   "source": [
    "class Program:\n",
    "    \n",
    "    # A class that will need to hold anything that could count as a program\n",
    "    \n",
    "    # As a start, for the Avida-type implementation, all we need to consider as a program is a list of instructions\n",
    "    \n",
    "    # We also need to consider what data type the instructions will be. I'd say integers. \n",
    "    \n",
    "    # How many instructions do we have? Only around 32. short will do, int is a waste of space\n",
    "    \n",
    "    # Short is not defined in Python. Int will have to do.\n",
    "    \n",
    "    # For now just one instruction, indexed with 0\n",
    "    \n",
    "    # How about this:\n",
    "    \n",
    "    # A class attribute as a list. The list can be as long as possible. Each instruction is defined by an int\n",
    "    # and the list only permits integers up to the value of (number of instructions) - 1\n",
    "    \n",
    "    # Initializing an empty program.\n",
    "    \n",
    "    # How about we only start with a couple of random instructions. Let's see what those could be.\n",
    "    \n",
    "    # For now I'll just work on a cpu with three registers and only one instruction\n",
    "    # This instruction (Instruction 0) exchanges the values inside the first two registers\n",
    "    \n",
    "    def __init__(self):\n",
    "        self.instructions = [0, 0, 0]\n",
    "        \n",
    "    def get_Instructions(self):\n",
    "        return self.instructions"
   ]
  },
  {
   "cell_type": "code",
   "execution_count": 140,
   "metadata": {},
   "outputs": [],
   "source": [
    "class Machine:\n",
    "    \n",
    "    # The state of the machine is defined by the values in its three registers\n",
    "    # Instruction pointer? Yeah probably. I'd want it to loop around to the beginning once it has reached the end of the program\n",
    "    # Or no, rather just stop (for now, we'll need to make it loop later)\n",
    "    \n",
    "    # The constructor. To be expanded with an additional instruction pointer (And also those headers we saw in the paper).\n",
    "    # All of the arguments passed here should FULLY determine the state of the Machine.\n",
    "    def __init__(self, a, b, c):\n",
    "        self.reg_a = a\n",
    "        self.reg_b = b\n",
    "        self.reg_c = c\n",
    "    \n",
    "    \n",
    "    # Oh, this will be strictly an Avida machine. It has to keep track of what differently indexed instructions do\n",
    "    \n",
    "    # How can I ensure that p is of class \"Program\"\n",
    "    \n",
    "    # Idea for now: First read program and then execute it. This way we have the list of instructions saved here.\n",
    "    # We'll need that in order to be able to copy it later.\n",
    "    \n",
    "    # Do I need the separate methods \"read_Program\" and \"execute_Program\"?\n",
    "    # Is there any advantage to this that we could see being useful to us in the future?\n",
    "    # Is it better to maybe just wrap it all up in one method, \"execute_Program(self,p)\" \n",
    "    # which saves a program and executes it at the same time\n",
    "    \n",
    "    # Let's keep it like this for now but it could be unoptimal\n",
    "    \n",
    "    # This will just read a Program type instance and save its instructions in the memory of the CPU\n",
    "    def read_Program(self, p):\n",
    "        \n",
    "        # A very basic way of checking whether the argument is of class Program\n",
    "        \n",
    "        if not isinstance(p, Program):\n",
    "            # Here I want an error statement, not just a print\n",
    "            print(\"In Machine_read_Program(p), p is not an instance of Program\")\n",
    "            \n",
    "        self.instruction_list = p.get_Instructions()\n",
    "        \n",
    "    # The method which defines which function is to be executed after reading each instruction.\n",
    "    # The functions to be executed aren't defined explicitly as functions, but as a set of statements after a case check\n",
    "    \n",
    "    # When we get a couple more of them we can see whether it makes sense to also define seperate functions for each instr.\n",
    "    def execute_Instruction(self, i):\n",
    "        \n",
    "        # This will be a lookup table where we'll see what each instruction is supposed to do\n",
    "        \n",
    "        if i == 0:\n",
    "            \n",
    "            # Might need to worry about deleting variables so the memory doesn't get blocked up\n",
    "            # Does temp need to be deleted explicitly?\n",
    "            # Well, let's do it just to be safe\n",
    "            \n",
    "            temp = self.reg_a\n",
    "            self.reg_a = self.reg_b\n",
    "            self.reg_b = temp\n",
    "            \n",
    "            del temp\n",
    "    \n",
    "    # This function takes no arguments, it just executes the program that's saved in the CPU's memory    \n",
    "    def execute_Program(self):\n",
    "        for i in self.instruction_list:\n",
    "            self.execute_Instruction(i)\n",
    "        \n",
    "    # Just to have a nice string representation.\n",
    "    # This should print out all of the important variables that define the state of the machine.\n",
    "    # For now it's only the three registers\n",
    "    def __str__(self):\n",
    "        string_representation = \"Register A: \" + str(self.reg_a) + \"\\nRegister B: \" + str(self.reg_b) + \"\\nRegister C: \" + str(self.reg_c)\n",
    "        return string_representation\n",
    "    "
   ]
  },
  {
   "cell_type": "code",
   "execution_count": 141,
   "metadata": {},
   "outputs": [],
   "source": [
    "test_program = Program()"
   ]
  },
  {
   "cell_type": "code",
   "execution_count": 142,
   "metadata": {},
   "outputs": [
    {
     "data": {
      "text/plain": [
       "[0, 0, 0]"
      ]
     },
     "execution_count": 142,
     "metadata": {},
     "output_type": "execute_result"
    }
   ],
   "source": [
    "test_program.instructions"
   ]
  },
  {
   "cell_type": "code",
   "execution_count": 143,
   "metadata": {},
   "outputs": [],
   "source": [
    "test_machine = Machine(2, 7, 8)"
   ]
  },
  {
   "cell_type": "code",
   "execution_count": 144,
   "metadata": {},
   "outputs": [
    {
     "name": "stdout",
     "output_type": "stream",
     "text": [
      "Register A: 2\n",
      "Register B: 7\n",
      "Register C: 8\n"
     ]
    }
   ],
   "source": [
    "print(test_machine)"
   ]
  },
  {
   "cell_type": "code",
   "execution_count": 145,
   "metadata": {},
   "outputs": [],
   "source": [
    "test_machine.read_Program(test_program)"
   ]
  },
  {
   "cell_type": "code",
   "execution_count": 146,
   "metadata": {},
   "outputs": [],
   "source": [
    "test_machine.execute_Program()"
   ]
  },
  {
   "cell_type": "code",
   "execution_count": 147,
   "metadata": {},
   "outputs": [
    {
     "name": "stdout",
     "output_type": "stream",
     "text": [
      "Register A: 7\n",
      "Register B: 2\n",
      "Register C: 8\n"
     ]
    }
   ],
   "source": [
    "print(test_machine)"
   ]
  }
 ],
 "metadata": {
  "kernelspec": {
   "display_name": "Python 3",
   "language": "python",
   "name": "python3"
  },
  "language_info": {
   "codemirror_mode": {
    "name": "ipython",
    "version": 3
   },
   "file_extension": ".py",
   "mimetype": "text/x-python",
   "name": "python",
   "nbconvert_exporter": "python",
   "pygments_lexer": "ipython3",
   "version": "3.7.4"
  }
 },
 "nbformat": 4,
 "nbformat_minor": 2
}
