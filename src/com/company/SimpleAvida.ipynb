{
 "cells": [
  {
   "cell_type": "code",
   "execution_count": 4,
   "metadata": {},
   "outputs": [],
   "source": [
    "class Program:\n",
    "    \n",
    "    # A class that will need to hold anything that could count as a program\n",
    "    \n",
    "    # As a start, for the Avida-type implementation, all we need to consider as a program is a list of instructions\n",
    "    \n",
    "    # We also need to consider what data type the instructions will be. I'd say integers. \n",
    "    \n",
    "    # How many instructions do we have? Only around 32. short will do, int is a waste of space\n",
    "    \n",
    "    # Short is not defined in Python. Int will have to do.\n",
    "    \n",
    "    # For now just one instruction, indexed with 0\n",
    "    \n",
    "    # How about this:\n",
    "    \n",
    "    # A class attribute as a list. The list can be as long as possible. Each instruction is defined by an int\n",
    "    # and the list only permits integers up to the value of (number of instructions) - 1\n",
    "    \n",
    "    # Initializing an empty program.\n",
    "    \n",
    "    # How about we only start with a couple of random instructions. Let's see what those could be.\n",
    "    \n",
    "    # For now I'll just work on a cpu with three registers and only one instruction\n",
    "    # This instruction (Instruction 0) exchanges the values inside the first two registers\n",
    "    \n",
    "    def __init__(self, instr_list):\n",
    "        \n",
    "        # Again, we need a way of checking whether what has been passed here is a valid list of instructions.\n",
    "        # Would make sense to define a separate method which does that (overkill maybe?)\n",
    "        \n",
    "        self.instructions = instr_list\n",
    "    \n",
    "    \n",
    "    # Will check whether the passed list is a valid list of instructions. TODO.\n",
    "    def check_Validity(instr_list):\n",
    "        \n",
    "        # Want to see how to raise an appropriate error\n",
    "        # Seems like it should be TypeError\n",
    "        \n",
    "        pass\n",
    "        \n",
    "    def get_Instructions(self):\n",
    "        return self.instructions"
   ]
  },
  {
   "cell_type": "code",
   "execution_count": 5,
   "metadata": {},
   "outputs": [],
   "source": [
    "class Machine:\n",
    "    \n",
    "    # An Avida machine needs the following libraries to function:\n",
    "    #from queue import LifoQueue\n",
    "    \n",
    "    # The state of the machine is defined by the values in its three registers\n",
    "    # Instruction pointer? Yeah probably. I'd want it to loop around to the beginning once it has reached the end of the program\n",
    "    # Or no, rather just stop (for now, we'll need to make it loop later)\n",
    "    \n",
    "    # The constructor. To be expanded with an additional instruction pointer (And also those headers we saw in the paper).\n",
    "    # All of the arguments passed here should FULLY determine the state of the Machine.\n",
    "    \n",
    "    # Need to add the stack too. Will have to take a closer look at the details of the implementation.\n",
    "    # Should we just copy the Avida Instruction set? (Give credits if necessary, but I mean who owns an instruction set)\n",
    "    # Should we make something simpler? But we need to then make sure that every possible permutation of any number of instructions\n",
    "    # constitutes a valid program. That's a hefty task. Rather copy.\n",
    "\n",
    "    # What's a good datatype to store stacks in Python?\n",
    "    \n",
    "    # Answer: LIFO Queue, already implemented as a library\n",
    "    \n",
    "    def __init__(self, a, b, c):\n",
    "        \n",
    "        # The libraries our machine will need will be imported\n",
    "        # whenever the first constructor is called\n",
    "        # TO CHECK: Does it work like this?\n",
    "        # It seems to but I don't know the details\n",
    "        \n",
    "        # I'd rather move this input to the environment, otherwise we're unnecessarily inputing every time\n",
    "        # we initialize a \"Machine\" object\n",
    "        #from queue import LifoQueue\n",
    "        \n",
    "        self.reg_a = a\n",
    "        self.reg_b = b\n",
    "        self.reg_c = c\n",
    "        \n",
    "        # Adding the instruction pointer. Don't need it yet but will later.\n",
    "        # Initialize it to 0\n",
    "        \n",
    "        # Increase it by 1 after each executed instruction\n",
    "        self.instr_pointer = 0\n",
    "        \n",
    "        self.stack0 = LifoQueue()\n",
    "        self.stack1 = LifoQueue()\n",
    "    \n",
    "    # Oh, this will be strictly an Avida machine. It has to keep track of what differently indexed instructions do\n",
    "    \n",
    "    # How can I ensure that p is of class \"Program\"\n",
    "    \n",
    "    # Idea for now: First read program and then execute it. This way we have the list of instructions saved here.\n",
    "    # We'll need that in order to be able to copy it later.\n",
    "    \n",
    "    # Do I need the separate methods \"read_Program\" and \"execute_Program\"?\n",
    "    # Is there any advantage to this that we could see being useful to us in the future?\n",
    "    # Is it better to maybe just wrap it all up in one method, \"execute_Program(self,p)\" \n",
    "    # which saves a program and executes it at the same time\n",
    "    \n",
    "    # Let's keep it like this for now but it could be unoptimal\n",
    "    \n",
    "    # This will just read a Program type instance and save its instructions in the memory of the CPU\n",
    "    def read_Program(self, p):\n",
    "        \n",
    "        # A very basic way of checking whether the argument is of class Program\n",
    "        \n",
    "        if not isinstance(p, Program):\n",
    "            # Here I want an error statement, not just a print\n",
    "            print(\"In Machine_read_Program(p), p is not an instance of Program\")\n",
    "            \n",
    "        self.instruction_list = p.get_Instructions()\n",
    "        \n",
    "    # The method which defines which function is to be executed after reading each instruction.\n",
    "    # The functions to be executed aren't defined explicitly as functions, but as a set of statements after a case check\n",
    "    \n",
    "    # When we get a couple more of them we can see whether it makes sense to also define seperate functions for each instr.\n",
    "    \n",
    "    # I think it makes sense to define separate functions for each operation. That way we can put them as key:value pairs\n",
    "    # (index, function_name) in a dictionary to be able to access them faster\n",
    "    def execute_Instruction(self, i):\n",
    "        \n",
    "        # NOTE: Registers and nops are complemented circularly (A -> B, B -> C, C -> A)\n",
    "        # nops modify the target register of the operation (In the documentation, nops FOLLOWING the operation modify the register)\n",
    "        # Hmm details not so clear yet\n",
    "        \n",
    "        # This will be a lookup table where we'll see what each instruction is supposed to do\n",
    "        \n",
    "        # -1 - test operation that swaps the values of registers a and b\n",
    "        if i == -1:\n",
    "            \n",
    "            # Might need to worry about deleting variables so the memory doesn't get blocked up\n",
    "            # Does temp need to be deleted explicitly?\n",
    "            # Well, let's do it just to be safe\n",
    "            \n",
    "            temp = self.reg_a\n",
    "            self.reg_a = self.reg_b\n",
    "            self.reg_b = temp\n",
    "            \n",
    "            del temp\n",
    "    \n",
    "    # This function takes no arguments, it just executes the program that's saved in the CPU's memory    \n",
    "    def execute_Program(self):\n",
    "        \n",
    "        # For now it just executes each instruction in the list one by one\n",
    "        # When the last instruction is executed we stop\n",
    "        \n",
    "        while self.instr_pointer < len(self.instruction_list):\n",
    "            \n",
    "            temp = self.instr_pointer\n",
    "            \n",
    "            self.execute_Instruction(self.instruction_list[self.instr_pointer])\n",
    "            \n",
    "            # We have to allow for the possibility of the instruction changing the value of the IP\n",
    "            # But we also have to ensure that if the instruction did nothing to explicitly change the IP,\n",
    "            # that it's automatically increased by 1\n",
    "            \n",
    "            # Two options: Explicitly make each instruction change the IP as desired, or:\n",
    "            \n",
    "            # If it wasn't changed by an instruction, increase by 1, otherwise leave it\n",
    "            if self.instr_pointer == temp:\n",
    "                self.instr_pointer += 1\n",
    "        \n",
    "    # Just to have a nice string representation.\n",
    "    # This should print out all of the important variables that define the state of the machine.\n",
    "    # For now it's only the three registers + IP\n",
    "    def __str__(self):\n",
    "        string_representation = \"Register A: \" + str(self.reg_a) + \"\\nRegister B: \" + str(self.reg_b) + \"\\nRegister C: \" + str(self.reg_c) + \"\\nInstruction Pointer: \" + str(self.instr_pointer)\n",
    "        return string_representation\n",
    "    "
   ]
  },
  {
   "cell_type": "code",
   "execution_count": 6,
   "metadata": {},
   "outputs": [],
   "source": [
    "# Keeping track of necessary inputs. To be later redone in the code for the environment\n",
    "from queue import LifoQueue"
   ]
  },
  {
   "cell_type": "code",
   "execution_count": 7,
   "metadata": {},
   "outputs": [],
   "source": [
    "test_program = Program([-1,-1,-1])"
   ]
  },
  {
   "cell_type": "code",
   "execution_count": 8,
   "metadata": {},
   "outputs": [
    {
     "data": {
      "text/plain": [
       "[-1, -1, -1]"
      ]
     },
     "execution_count": 8,
     "metadata": {},
     "output_type": "execute_result"
    }
   ],
   "source": [
    "test_program.instructions"
   ]
  },
  {
   "cell_type": "code",
   "execution_count": 9,
   "metadata": {},
   "outputs": [],
   "source": [
    "test_machine = Machine(2, 7, 8)"
   ]
  },
  {
   "cell_type": "code",
   "execution_count": 10,
   "metadata": {},
   "outputs": [
    {
     "name": "stdout",
     "output_type": "stream",
     "text": [
      "Register A: 2\n",
      "Register B: 7\n",
      "Register C: 8\n",
      "Instruction Pointer: 0\n"
     ]
    }
   ],
   "source": [
    "print(test_machine)"
   ]
  },
  {
   "cell_type": "code",
   "execution_count": 11,
   "metadata": {},
   "outputs": [],
   "source": [
    "test_machine.read_Program(test_program)"
   ]
  },
  {
   "cell_type": "code",
   "execution_count": 12,
   "metadata": {},
   "outputs": [],
   "source": [
    "test_machine.execute_Program()"
   ]
  },
  {
   "cell_type": "code",
   "execution_count": 244,
   "metadata": {},
   "outputs": [
    {
     "name": "stdout",
     "output_type": "stream",
     "text": [
      "Register A: 7\n",
      "Register B: 2\n",
      "Register C: 8\n",
      "Instruction Pointer: 3\n"
     ]
    }
   ],
   "source": [
    "print(test_machine)"
   ]
  },
  {
   "cell_type": "code",
   "execution_count": null,
   "metadata": {},
   "outputs": [],
   "source": []
  }
 ],
 "metadata": {
  "kernelspec": {
   "display_name": "Python 3",
   "language": "python",
   "name": "python3"
  },
  "language_info": {
   "codemirror_mode": {
    "name": "ipython",
    "version": 3
   },
   "file_extension": ".py",
   "mimetype": "text/x-python",
   "name": "python",
   "nbconvert_exporter": "python",
   "pygments_lexer": "ipython3",
   "version": "3.7.4"
  }
 },
 "nbformat": 4,
 "nbformat_minor": 2
}
