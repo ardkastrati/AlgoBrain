{
 "cells": [
  {
   "cell_type": "markdown",
   "metadata": {},
   "source": [
    "# NOTE:\n",
    "\n",
    "Here you can see the process and ideas on how lineage tracking works\n",
    "\n",
    "This is just for my own reference. Spare your time reading this unless you're really interested in it. No guarantee that all the comments make sense."
   ]
  },
  {
   "cell_type": "code",
   "execution_count": 25,
   "metadata": {},
   "outputs": [],
   "source": [
    "import numpy as np\n",
    "\n",
    "with open('divlog.log') as f:\n",
    "    content = f.readlines()"
   ]
  },
  {
   "cell_type": "markdown",
   "metadata": {},
   "source": [
    "Logging works fine.\n",
    "\n",
    "Now I want to parse the logged data in order to extract the full lineage of an organism that has evolved NAND\n",
    "\n",
    "The organism: [19, 20, 2, 0, 21, 2, 2, 18, 7, 8, 18, 2, 2, 7, 2, 2, 2, 2, 15, 18, 4, 11, 25, 11, 6, 16, 1, 9, 2, 2, 2, 1, 2, 2, 9, 14, 2, 2, 2, 2, 20, 20, 19, 25, 2, 0, 17, 21, 0, 1]"
   ]
  },
  {
   "cell_type": "markdown",
   "metadata": {},
   "source": [
    "#### NOTE:\n",
    "The divlog.log file contains some random experiment, not the above mentioned NAND one. First I'll try to track the lineage of any organism in any such random experiment. Once I can do that I can trivially do the same for NAND"
   ]
  },
  {
   "cell_type": "code",
   "execution_count": 27,
   "metadata": {},
   "outputs": [
    {
     "data": {
      "text/plain": [
       "array(['[16, 20, 2, 0, 21, 2, 2, 2, 2, 2, 2, 2, 2, 2, 2, 2, 2, 2, 2, 2, 2, 2, 2, 2, 2, 2, 2, 2, 2, 2, 2, 2, 2, 2, 2, 2, 2, 2, 2, 2, 2, 20, 19, 25, 2, 0, 17, 21, 0, 1]\\n',\n",
       "       '[16, 13, 2, 0, 21, 2, 2, 2, 2, 2, 2, 2, 2, 2, 2, 2, 2, 2, 2, 2, 2, 2, 2, 2, 2, 2, 2, 2, 2, 21, 2, 2, 2, 2, 2, 2, 2, 2, 2, 2, 2, 20, 19, 25, 2, 0, 17, 21, 0, 1]\\n',\n",
       "       '\\n', ...,\n",
       "       '[16, 20, 2, 0, 21, 2, 2, 2, 5, 2, 14, 2, 3, 20, 2, 2, 2, 12, 2, 2, 2, 17, 2, 6, 2, 18, 9, 6, 2, 2, 2, 2, 2, 2, 2, 0, 23, 14, 2, 16, 2, 20, 19, 25, 2, 0, 17, 21, 0, 1]\\n',\n",
       "       '[16, 20, 2, 0, 21, 2, 2, 2, 5, 2, 14, 2, 3, 20, 2, 2, 2, 12, 2, 2, 2, 17, 2, 6, 2, 18, 9, 6, 2, 2, 2, 2, 20, 2, 2, 0, 23, 14, 2, 16, 2, 20, 19, 25, 2, 0, 17, 21, 0, 1]\\n',\n",
       "       '\\n'], dtype='<U170')"
      ]
     },
     "execution_count": 27,
     "metadata": {},
     "output_type": "execute_result"
    }
   ],
   "source": [
    "con = np.array(content)\n",
    "con"
   ]
  },
  {
   "cell_type": "code",
   "execution_count": 29,
   "metadata": {},
   "outputs": [
    {
     "name": "stdout",
     "output_type": "stream",
     "text": [
      "[16, 20, 2, 0, 21, 2, 2, 2, 2, 2, 2, 2, 2, 2, 2, 2, 2, 2, 2, 2, 2, 2, 2, 2, 2, 2, 2, 2, 2, 2, 2, 2, 2, 2, 2, 2, 2, 2, 2, 2, 2, 20, 19, 25, 2, 0, 17, 21, 0, 1]\n",
      "[16, 13, 2, 0, 21, 2, 2, 2, 2, 2, 2, 2, 2, 2, 2, 2, 2, 2, 2, 2, 2, 2, 2, 2, 2, 2, 2, 2, 2, 21, 2, 2, 2, 2, 2, 2, 2, 2, 2, 2, 2, 20, 19, 25, 2, 0, 17, 21, 0, 1]\n",
      "\n",
      "[16, 20, 2, 0, 21, 2, 2, 2, 2, 2, 2, 2, 2, 2, 2, 2, 2, 2, 2, 2, 2, 2, 2, 2, 2, 2, 2, 2, 2, 2, 2, 2, 2, 2, 2, 2, 2, 2, 2, 2, 2, 20, 19, 25, 2, 0, 17, 21, 0, 1]\n",
      "[16, 20, 2, 0, 23, 2, 2, 2, 2, 2, 2, 2, 2, 2, 2, 2, 2, 2, 2, 25, 2, 2, 2, 2, 2, 2, 2, 10, 2, 4, 2, 2, 2, 2, 2, 2, 2, 2, 2, 23, 2, 20, 4, 25, 2, 0, 17, 21, 0, 1]\n",
      "\n",
      "[16, 20, 2, 0, 21, 2, 2, 2, 2, 2, 2, 2, 2, 2, 2, 2, 2, 2, 2, 2, 2, 2, 2, 2, 2, 2, 2, 2, 2, 2, 2, 2, 2, 2, 2, 2, 2, 2, 2, 2, 2, 20, 19, 25, 2, 0, 17, 21, 0, 1]\n",
      "[16, 20, 2, 0, 21, 2, 2, 2, 2, 2, 2, 2, 2, 2, 2, 2, 2, 2, 2, 2, 2, 2, 2, 2, 2, 2, 2, 2, 2, 2, 2, 2, 2, 2, 2, 2, 2, 2, 2, 2, 2, 20, 19, 25, 2, 0, 17, 19, 0, 1]\n",
      "\n",
      "[16, 20, 2, 0, 21, 2, 2, 2, 2, 2, 2, 2, 2, 2, 2, 2, 2, 2, 2, 2, 2, 2, 2, 2, 2, 2, 2, 2, 2, 2, 2, 2, 2, 2, 2, 2, 2, 2, 2, 2, 2, 20, 19, 25, 2, 0, 17, 21, 0, 1]\n",
      "[16, 20, 9, 0, 21, 2, 2, 2, 2, 2, 2, 2, 2, 2, 2, 2, 2, 2, 2, 2, 2, 2, 2, 2, 2, 2, 2, 2, 2, 2, 2, 2, 2, 2, 2, 2, 2, 2, 2, 2, 2, 20, 19, 25, 2, 0, 17, 21, 0, 1]\n",
      "\n",
      "[16, 20, 2, 0, 21, 2, 2, 2, 2, 2, 2, 2, 2, 2, 2, 2, 2, 2, 2, 2, 2, 2, 2, 2, 2, 2, 2, 2, 2, 2, 2, 2, 2, 2, 2, 2, 2, 2, 2, 2, 2, 20, 19, 25, 2, 0, 17, 21, 0, 1]\n",
      "[16, 20, 2, 0, 21, 2, 2, 2, 2, 2, 2, 2, 2, 2, 2, 2, 2, 2, 2, 2, 2, 2, 2, 2, 2, 2, 2, 2, 2, 2, 2, 2, 24, 2, 2, 2, 2, 2, 2, 2, 2, 20, 19, 25, 2, 0, 17, 21, 0, 1]\n",
      "\n",
      "[16, 20, 2, 0, 21, 2, 2, 2, 2, 2, 2, 2, 2, 2, 2, 2, 2, 2, 2, 2, 2, 2, 2, 2, 2, 2, 2, 2, 2, 2, 2, 2, 2, 2, 2, 2, 2, 2, 2, 2, 2, 20, 19, 25, 2, 0, 17, 21, 0, 1]\n",
      "[16, 20, 2, 0, 21, 2, 2, 2, 2, 2, 2, 2, 2, 6, 2, 2, 12, 2, 2, 21, 2, 2, 2, 2, 2, 2, 2, 2, 2, 2, 2, 2, 2, 2, 2, 2, 2, 2, 20, 2, 2, 20, 19, 25, 2, 0, 17, 21, 0, 1]\n",
      "\n",
      "[16, 20, 2, 0, 21, 2, 2, 2, 2, 2, 2, 2, 2, 2, 2, 2, 2, 2, 2, 2, 2, 2, 2, 2, 2, 2, 2, 2, 2, 2, 2, 2, 2, 2, 2, 2, 2, 2, 2, 2, 2, 20, 19, 25, 2, 0, 17, 21, 0, 1]\n",
      "[16, 20, 2, 0, 21, 2, 2, 2, 2, 2, 2, 2, 2, 2, 2, 2, 2, 2, 2, 2, 2, 2, 2, 2, 2, 2, 17, 2, 2, 2, 2, 2, 2, 2, 2, 2, 24, 2, 0, 25, 2, 20, 19, 25, 2, 0, 17, 21, 0, 1]\n"
     ]
    }
   ],
   "source": [
    "for i in range(20):\n",
    "    print(con[i][:-1])"
   ]
  },
  {
   "cell_type": "code",
   "execution_count": 31,
   "metadata": {},
   "outputs": [
    {
     "data": {
      "text/plain": [
       "'[16, 20, 2, 0, 21, 2, 2, 2, 5, 2, 14, 2, 3, 20, 2, 2, 2, 12, 2, 2, 2, 17, 2, 6, 2, 18, 9, 6, 2, 2, 2, 2, 20, 2, 2, 0, 23, 14, 2, 16, 2, 20, 19, 25, 2, 0, 17, 21, 0, 1]\\n'"
      ]
     },
     "execution_count": 31,
     "metadata": {},
     "output_type": "execute_result"
    }
   ],
   "source": [
    "con[-2]"
   ]
  },
  {
   "cell_type": "code",
   "execution_count": 32,
   "metadata": {},
   "outputs": [],
   "source": [
    "end_organism = con[-2]"
   ]
  },
  {
   "cell_type": "code",
   "execution_count": 34,
   "metadata": {},
   "outputs": [],
   "source": [
    "# I think I see it"
   ]
  },
  {
   "cell_type": "code",
   "execution_count": 40,
   "metadata": {},
   "outputs": [
    {
     "data": {
      "text/plain": [
       "6799"
      ]
     },
     "execution_count": 40,
     "metadata": {},
     "output_type": "execute_result"
    }
   ],
   "source": [
    "# The location where con == end_organism\n",
    "np.where(con == end_organism)[0][0]"
   ]
  },
  {
   "cell_type": "code",
   "execution_count": 43,
   "metadata": {},
   "outputs": [
    {
     "data": {
      "text/plain": [
       "'[16, 20, 2, 0, 21, 2, 2, 2, 5, 2, 14, 2, 3, 20, 2, 2, 2, 12, 2, 2, 2, 17, 2, 6, 2, 18, 9, 6, 2, 2, 2, 2, 2, 2, 2, 0, 23, 14, 2, 16, 2, 20, 19, 25, 2, 0, 17, 21, 0, 1]\\n'"
      ]
     },
     "execution_count": 43,
     "metadata": {},
     "output_type": "execute_result"
    }
   ],
   "source": [
    "# Its parent:\n",
    "con[np.where(con == end_organism)[0][0]-1]"
   ]
  },
  {
   "cell_type": "code",
   "execution_count": 45,
   "metadata": {},
   "outputs": [
    {
     "data": {
      "text/plain": [
       "(array([5995, 6798], dtype=int64),)"
      ]
     },
     "execution_count": 45,
     "metadata": {},
     "output_type": "execute_result"
    }
   ],
   "source": [
    "# The locations where the parent was found:\n",
    "np.where(con == con[np.where(con == end_organism)[0][0]-1])"
   ]
  },
  {
   "cell_type": "code",
   "execution_count": 47,
   "metadata": {},
   "outputs": [
    {
     "data": {
      "text/plain": [
       "5995"
      ]
     },
     "execution_count": 47,
     "metadata": {},
     "output_type": "execute_result"
    }
   ],
   "source": [
    "np.where(con == con[np.where(con == end_organism)[0][0]-1])[0][0]"
   ]
  },
  {
   "cell_type": "code",
   "execution_count": 52,
   "metadata": {},
   "outputs": [
    {
     "data": {
      "text/plain": [
       "'\\n'"
      ]
     },
     "execution_count": 52,
     "metadata": {},
     "output_type": "execute_result"
    }
   ],
   "source": [
    "# We can exploit the structure of the log file to determine which organism was a parent and which one a child\n",
    "con[2]\n",
    "# Every third one is \\n"
   ]
  },
  {
   "cell_type": "markdown",
   "metadata": {},
   "source": [
    "So how should I do this?\n",
    "\n",
    "- 1: Find the last occurence of the target organism where it is also a child organism\n",
    "- 2: Find its parent, append it to the lineage list\n",
    "- 3: Find the last occurence of the parent organism where is is also a child organism\n",
    "- 4: Find its parent, append it to the lineage list\n",
    "- 5+: ...\n",
    "- Stop the lineage search once there are no more occurences where the parent organism is also somebody's child"
   ]
  },
  {
   "cell_type": "markdown",
   "metadata": {},
   "source": [
    "### 1: Find the last occurence of the target organism where it is also a child organism"
   ]
  },
  {
   "cell_type": "code",
   "execution_count": 67,
   "metadata": {},
   "outputs": [
    {
     "data": {
      "text/plain": [
       "'[16, 20, 2, 0, 21, 2, 2, 2, 15, 2, 2, 2, 2, 2, 2, 2, 2, 2, 2, 2, 2, 7, 19, 2, 2, 2, 2, 2, 2, 2, 2, 2, 2, 2, 2, 2, 2, 2, 4, 2, 2, 20, 19, 25, 2, 0, 17, 21, 0, 1]\\n'"
      ]
     },
     "execution_count": 67,
     "metadata": {},
     "output_type": "execute_result"
    }
   ],
   "source": [
    "# Take for example this one\n",
    "con[5700]"
   ]
  },
  {
   "cell_type": "code",
   "execution_count": 117,
   "metadata": {},
   "outputs": [
    {
     "data": {
      "text/plain": [
       "(array([3226, 4116, 4908, 5700], dtype=int64),)"
      ]
     },
     "execution_count": 117,
     "metadata": {},
     "output_type": "execute_result"
    }
   ],
   "source": [
    "# Reports multiple locations where it was detected\n",
    "np.where(con == con[5700])"
   ]
  },
  {
   "cell_type": "code",
   "execution_count": null,
   "metadata": {},
   "outputs": [],
   "source": [
    "np.where(con == con[5700])"
   ]
  },
  {
   "cell_type": "code",
   "execution_count": 72,
   "metadata": {},
   "outputs": [
    {
     "data": {
      "text/plain": [
       "5700"
      ]
     },
     "execution_count": 72,
     "metadata": {},
     "output_type": "execute_result"
    }
   ],
   "source": [
    "np.where(con == con[5700])[0][-1]"
   ]
  },
  {
   "cell_type": "code",
   "execution_count": 77,
   "metadata": {},
   "outputs": [
    {
     "name": "stdout",
     "output_type": "stream",
     "text": [
      "3226\n",
      "\n",
      "\n",
      "4116\n",
      "[16, 8, 2, 0, 21, 2, 2, 2, 15, 2, 2, 2, 2, 2, 2, 2, 2, 2, 2, 2, 2, 7, 19, 2, 2, 2, 2, 2, 2, 18, 2, 2, 2, 2, 2, 2, 2, 2, 4, 2, 2, 20, 19, 20, 2, 0, 17, 21, 0, 1]\n",
      "\n",
      "4908\n",
      "[16, 20, 2, 0, 21, 2, 2, 2, 15, 22, 2, 2, 0, 2, 2, 2, 2, 2, 2, 2, 8, 7, 19, 2, 2, 2, 2, 2, 2, 2, 2, 2, 2, 2, 2, 2, 2, 2, 4, 2, 2, 20, 19, 25, 2, 0, 17, 21, 0, 1]\n",
      "\n",
      "5700\n",
      "[16, 20, 2, 0, 21, 2, 2, 2, 15, 2, 2, 2, 2, 2, 2, 18, 2, 2, 2, 2, 2, 7, 19, 2, 2, 2, 2, 2, 18, 2, 2, 2, 2, 2, 2, 2, 2, 2, 4, 2, 2, 20, 19, 25, 2, 0, 17, 21, 0, 1]\n",
      "\n"
     ]
    }
   ],
   "source": [
    "for i in np.where(con == con[5700])[0]:\n",
    "    print(i)\n",
    "    print(con[i+1])\n",
    "    \n",
    "# It was a child at 3226, afterwards a parent"
   ]
  },
  {
   "cell_type": "code",
   "execution_count": 80,
   "metadata": {},
   "outputs": [
    {
     "data": {
      "text/plain": [
       "True"
      ]
     },
     "execution_count": 80,
     "metadata": {},
     "output_type": "execute_result"
    }
   ],
   "source": [
    "con[3227] == \"\\n\""
   ]
  },
  {
   "cell_type": "code",
   "execution_count": 83,
   "metadata": {},
   "outputs": [
    {
     "name": "stdout",
     "output_type": "stream",
     "text": [
      "3226\n"
     ]
    }
   ],
   "source": [
    "location = np.where(con == con[5700])[0][-1]\n",
    "\n",
    "for i in np.where(con == con[5700])[0]:\n",
    "    if con[i+1] == \"\\n\" and i < location:\n",
    "        location = i\n",
    "    \n",
    "print(location)"
   ]
  },
  {
   "cell_type": "markdown",
   "metadata": {},
   "source": [
    "### 2: Find its parent, append it to the lineage list"
   ]
  },
  {
   "cell_type": "code",
   "execution_count": 87,
   "metadata": {},
   "outputs": [],
   "source": [
    "lineage = []\n",
    "\n",
    "lineage.append(con[location-1][:-1])"
   ]
  },
  {
   "cell_type": "code",
   "execution_count": 90,
   "metadata": {},
   "outputs": [
    {
     "data": {
      "text/plain": [
       "['[16, 20, 2, 0, 21, 2, 2, 2, 2, 2, 2, 2, 2, 2, 2, 2, 2, 2, 2, 2, 2, 2, 2, 2, 2, 2, 2, 2, 2, 2, 2, 2, 2, 2, 2, 2, 2, 2, 4, 2, 2, 20, 19, 25, 2, 0, 17, 21, 0, 1]']"
      ]
     },
     "execution_count": 90,
     "metadata": {},
     "output_type": "execute_result"
    }
   ],
   "source": [
    "lineage"
   ]
  },
  {
   "cell_type": "markdown",
   "metadata": {},
   "source": [
    "### 3: Find the last occurence of the parent organism where is is also a child organism"
   ]
  },
  {
   "cell_type": "code",
   "execution_count": 91,
   "metadata": {},
   "outputs": [],
   "source": [
    "parent = con[location-1]"
   ]
  },
  {
   "cell_type": "code",
   "execution_count": 94,
   "metadata": {},
   "outputs": [
    {
     "data": {
      "text/plain": [
       "'[16, 20, 2, 0, 21, 2, 2, 2, 2, 2, 2, 2, 2, 2, 2, 2, 2, 2, 2, 2, 2, 2, 2, 2, 2, 2, 2, 2, 2, 2, 2, 2, 2, 2, 2, 2, 2, 2, 4, 2, 2, 20, 19, 25, 2, 0, 17, 21, 0, 1]\\n'"
      ]
     },
     "execution_count": 94,
     "metadata": {},
     "output_type": "execute_result"
    }
   ],
   "source": [
    "parent"
   ]
  },
  {
   "cell_type": "code",
   "execution_count": 156,
   "metadata": {},
   "outputs": [
    {
     "name": "stdout",
     "output_type": "stream",
     "text": [
      "1597\n",
      "\n",
      "\n",
      "3225\n",
      "[16, 20, 2, 0, 21, 2, 2, 2, 15, 2, 2, 2, 2, 2, 2, 2, 2, 2, 2, 2, 2, 7, 19, 2, 2, 2, 2, 2, 2, 2, 2, 2, 2, 2, 2, 2, 2, 2, 4, 2, 2, 20, 19, 25, 2, 0, 17, 21, 0, 1]\n",
      "\n"
     ]
    }
   ],
   "source": [
    "for i in np.where(con == parent)[0]:\n",
    "    print(i)\n",
    "    print(con[i+1])"
   ]
  },
  {
   "cell_type": "code",
   "execution_count": null,
   "metadata": {},
   "outputs": [],
   "source": []
  },
  {
   "cell_type": "code",
   "execution_count": 97,
   "metadata": {},
   "outputs": [],
   "source": [
    "lineage.append(con[1597][:-1])"
   ]
  },
  {
   "cell_type": "code",
   "execution_count": 105,
   "metadata": {},
   "outputs": [
    {
     "name": "stdout",
     "output_type": "stream",
     "text": [
      "[16, 20, 2, 0, 21, 2, 2, 2, 2, 2, 2, 2, 2, 2, 2, 2, 2, 2, 2, 2, 2, 2, 2, 2, 2, 2, 2, 2, 2, 2, 2, 2, 2, 2, 2, 2, 2, 2, 4, 2, 2, 20, 19, 25, 2, 0, 17, 21, 0, 1]\n",
      "\n",
      "\n",
      "[16, 20, 2, 0, 21, 2, 2, 2, 2, 2, 2, 2, 2, 2, 2, 2, 2, 2, 2, 2, 2, 2, 2, 2, 2, 2, 2, 2, 2, 2, 2, 2, 2, 2, 2, 2, 2, 2, 4, 2, 2, 20, 19, 25, 2, 0, 17, 21, 0, 1]\n",
      "\n",
      "\n"
     ]
    }
   ],
   "source": [
    "for element in lineage:\n",
    "    print(element)\n",
    "    print(\"\\n\")"
   ]
  },
  {
   "cell_type": "code",
   "execution_count": 106,
   "metadata": {},
   "outputs": [],
   "source": [
    "lineage.reverse()"
   ]
  },
  {
   "cell_type": "code",
   "execution_count": 108,
   "metadata": {},
   "outputs": [
    {
     "data": {
      "text/plain": [
       "['[16, 20, 2, 0, 21, 2, 2, 2, 2, 2, 2, 2, 2, 2, 2, 2, 2, 2, 2, 2, 2, 2, 2, 2, 2, 2, 2, 2, 2, 2, 2, 2, 2, 2, 2, 2, 2, 2, 4, 2, 2, 20, 19, 25, 2, 0, 17, 21, 0, 1]',\n",
       " '[16, 20, 2, 0, 21, 2, 2, 2, 2, 2, 2, 2, 2, 2, 2, 2, 2, 2, 2, 2, 2, 2, 2, 2, 2, 2, 2, 2, 2, 2, 2, 2, 2, 2, 2, 2, 2, 2, 4, 2, 2, 20, 19, 25, 2, 0, 17, 21, 0, 1]']"
      ]
     },
     "execution_count": 108,
     "metadata": {},
     "output_type": "execute_result"
    }
   ],
   "source": [
    "lineage"
   ]
  },
  {
   "cell_type": "markdown",
   "metadata": {},
   "source": [
    "### The algorithm for finding full lineages:"
   ]
  },
  {
   "cell_type": "code",
   "execution_count": 182,
   "metadata": {},
   "outputs": [
    {
     "name": "stdout",
     "output_type": "stream",
     "text": [
      "5995\n",
      "5023\n",
      "3919\n",
      "2722\n",
      "379\n",
      "49\n",
      "49\n"
     ]
    }
   ],
   "source": [
    "current = '[16, 20, 2, 0, 21, 2, 2, 2, 5, 2, 14, 2, 3, 20, 2, 2, 2, 12, 2, 2, 2, 17, 2, 6, 2, 18, 9, 6, 2, 2, 2, 2, 2, 2, 2, 0, 23, 14, 2, 16, 2, 20, 19, 25, 2, 0, 17, 21, 0, 1]\\n'\n",
    "\n",
    "lineage = []\n",
    "lineage.append(current)\n",
    "\n",
    "found_start = False\n",
    "\n",
    "loc_old = -1\n",
    "loc_new = -1\n",
    "\n",
    "while not found_start:\n",
    "    # Find the last occurence of the current organism as a child\n",
    "    # If all of the occurences of the current organism are as parent, we have found the start of the lineage\n",
    "    \n",
    "    loc_old = loc_new\n",
    "    \n",
    "    temp = 0\n",
    "    location = np.where(con == current)[0][-1]\n",
    "    \n",
    "    for i in np.where(con == current)[0]:\n",
    "        if con[i+1] == \"\\n\" and i <= location:\n",
    "            location = i\n",
    "            temp = 1\n",
    "            \n",
    "    if temp == 0:\n",
    "        found_start = True\n",
    "        \n",
    "    loc_new = location\n",
    "        \n",
    "    print(loc_new)\n",
    "    \n",
    "    if loc_old == loc_new:\n",
    "        found_start = True\n",
    "        \n",
    "    # Find the parent, append it to lineage\n",
    "    lineage.append(con[location-1])\n",
    "    \n",
    "    # current is now the parent\n",
    "    current = con[location-1]"
   ]
  },
  {
   "cell_type": "code",
   "execution_count": 173,
   "metadata": {},
   "outputs": [
    {
     "data": {
      "text/plain": [
       "'[16, 20, 2, 0, 21, 2, 2, 2, 2, 2, 2, 2, 2, 2, 2, 2, 2, 2, 2, 2, 2, 2, 2, 2, 2, 2, 2, 2, 2, 2, 2, 2, 2, 2, 2, 0, 2, 2, 2, 2, 2, 20, 19, 25, 2, 0, 17, 21, 0, 1]\\n'"
      ]
     },
     "execution_count": 173,
     "metadata": {},
     "output_type": "execute_result"
    }
   ],
   "source": [
    "con[379]"
   ]
  },
  {
   "cell_type": "code",
   "execution_count": 183,
   "metadata": {},
   "outputs": [
    {
     "name": "stdout",
     "output_type": "stream",
     "text": [
      "[16, 20, 2, 0, 21, 2, 2, 2, 2, 2, 2, 2, 2, 2, 2, 2, 2, 2, 2, 2, 2, 2, 2, 2, 2, 2, 2, 2, 2, 2, 2, 2, 2, 2, 2, 2, 2, 2, 2, 2, 2, 20, 19, 25, 2, 0, 17, 21, 0, 1]\n",
      "\n",
      "[16, 20, 2, 0, 21, 2, 2, 2, 2, 2, 2, 2, 2, 2, 2, 2, 2, 2, 2, 2, 2, 2, 2, 2, 2, 2, 2, 2, 2, 2, 2, 2, 2, 2, 2, 0, 2, 2, 2, 2, 2, 20, 19, 25, 2, 0, 17, 21, 0, 1]\n",
      "\n",
      "[16, 20, 2, 0, 21, 2, 2, 2, 2, 2, 14, 2, 2, 2, 2, 2, 2, 2, 2, 2, 2, 2, 2, 11, 2, 2, 2, 2, 2, 2, 2, 2, 2, 2, 2, 0, 2, 2, 2, 2, 2, 20, 19, 25, 2, 0, 17, 21, 0, 1]\n",
      "\n",
      "[16, 20, 2, 0, 21, 2, 2, 2, 2, 2, 14, 2, 2, 2, 2, 2, 2, 2, 2, 2, 2, 17, 2, 11, 2, 18, 2, 2, 2, 2, 2, 2, 2, 2, 2, 0, 2, 2, 2, 2, 2, 20, 19, 25, 2, 0, 17, 21, 0, 1]\n",
      "\n",
      "[16, 20, 2, 0, 21, 2, 2, 2, 4, 2, 14, 2, 3, 2, 2, 2, 2, 2, 2, 2, 2, 17, 2, 11, 2, 18, 2, 6, 2, 2, 2, 2, 2, 2, 2, 0, 23, 14, 2, 2, 2, 20, 19, 25, 2, 0, 17, 21, 0, 1]\n",
      "\n",
      "[16, 20, 2, 0, 21, 2, 2, 2, 5, 2, 14, 2, 3, 20, 2, 2, 2, 12, 2, 2, 2, 17, 2, 6, 2, 18, 9, 6, 2, 2, 2, 2, 2, 2, 2, 0, 23, 14, 2, 16, 2, 20, 19, 25, 2, 0, 17, 21, 0, 1]\n",
      "\n"
     ]
    }
   ],
   "source": [
    "del lineage[-1]\n",
    "del lineage[-1]\n",
    "\n",
    "lineage.reverse()\n",
    "\n",
    "for element in lineage:\n",
    "    print(element)"
   ]
  }
 ],
 "metadata": {
  "kernelspec": {
   "display_name": "Python 3",
   "language": "python",
   "name": "python3"
  },
  "language_info": {
   "codemirror_mode": {
    "name": "ipython",
    "version": 3
   },
   "file_extension": ".py",
   "mimetype": "text/x-python",
   "name": "python",
   "nbconvert_exporter": "python",
   "pygments_lexer": "ipython3",
   "version": "3.8.5"
  }
 },
 "nbformat": 4,
 "nbformat_minor": 4
}
