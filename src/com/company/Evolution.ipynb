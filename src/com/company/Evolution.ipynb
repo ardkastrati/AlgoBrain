{
 "cells": [
  {
   "cell_type": "markdown",
   "id": "f8866128",
   "metadata": {},
   "source": [
    "# Running Experiments for Default to NOR evolution with different system parameters."
   ]
  },
  {
   "cell_type": "code",
   "execution_count": 1,
   "id": "024aa288",
   "metadata": {},
   "outputs": [],
   "source": [
    "import numpy as np\n",
    "import matplotlib.pyplot as plt\n",
    "\n",
    "# Add Backend to path\n",
    "import sys\n",
    "#sys.path.append('C:/Users/eeveetza/Documents/GitHub/AlgoBrain/src/com/company/Backend')\n",
    "sys.path.append('C:/Users/alexa/OneDrive/Documents/GitHub/AlgoBrain/src/com/company/Backend')\n",
    "#sys.path.append('C:/Users/Tbuob/OneDrive/Dokumente/GitHub/AlgoBrain/src/com/company/Backend')\n",
    "\n",
    "from Environment import World\n",
    "from Experiment import Experiment"
   ]
  },
  {
   "cell_type": "markdown",
   "id": "328da691",
   "metadata": {},
   "source": [
    "Define the Experiment"
   ]
  },
  {
   "cell_type": "code",
   "execution_count": 2,
   "id": "ddfc9bf4",
   "metadata": {},
   "outputs": [
    {
     "name": "stdout",
     "output_type": "stream",
     "text": [
      "Wall time: 121 ms\n"
     ]
    }
   ],
   "source": [
    "%%time\n",
    "\n",
    "# Define the size of the pool here:\n",
    "N = 30\n",
    "\n",
    "# Define the start, targ£et and parameters of the experiment\n",
    "\n",
    "# stat_cycles determines how often you're informed of the statistics of the population\n",
    "\n",
    "experiment = Experiment(start_organism=\"default\", target_function=\"nor\", ins_prob = 0.05,\\\n",
    "                        del_prob = 0.05, cm_prob = 0.005,N=N, stat_cycles = 30, instruction_set = \"custom\")"
   ]
  },
  {
   "cell_type": "markdown",
   "id": "6dcde8c3",
   "metadata": {},
   "source": [
    "Run the Experiment"
   ]
  },
  {
   "cell_type": "code",
   "execution_count": 3,
   "id": "c034f5f2",
   "metadata": {},
   "outputs": [
    {
     "data": {
      "text/plain": [
       "False"
      ]
     },
     "execution_count": 3,
     "metadata": {},
     "output_type": "execute_result"
    }
   ],
   "source": [
    "experiment.world.executions % (experiment.N ** 2) >= 30"
   ]
  },
  {
   "cell_type": "code",
   "execution_count": null,
   "id": "1ae768c3",
   "metadata": {},
   "outputs": [
    {
     "name": "stdout",
     "output_type": "stream",
     "text": [
      "UPDATE: 1\n",
      "Min Length: (50, (0, 0))\n",
      "Max Length: (50, (0, 0))\n",
      "Mean Length: 50.0\n",
      "Min Rate: 50\n",
      "Max Rate: 50\n",
      "Mean Rate: 50.0\n",
      "Max Age: 30\n",
      "Mean Age: 30.0\n",
      "NOT: 0\n",
      "NAND: 0\n",
      "AND: 0\n",
      "OR_N: 0\n",
      "OR: 0\n",
      "AND_N: 0\n",
      "NOR: 0\n",
      "XOR: 0\n",
      "EQU: 0\n",
      "UPDATE: 2\n",
      "Min Length: (50, (0, 0))\n",
      "Max Length: (50, (0, 0))\n",
      "Mean Length: 50.0\n",
      "Min Rate: 50\n",
      "Max Rate: 50\n",
      "Mean Rate: 50.0\n",
      "Max Age: 60\n",
      "Mean Age: 60.0\n",
      "NOT: 0\n",
      "NAND: 0\n",
      "AND: 0\n",
      "OR_N: 0\n",
      "OR: 0\n",
      "AND_N: 0\n",
      "NOR: 0\n",
      "XOR: 0\n",
      "EQU: 0\n",
      "UPDATE: 3\n",
      "Min Length: (50, (0, 0))\n",
      "Max Length: (50, (0, 0))\n",
      "Mean Length: 50.0\n",
      "Min Rate: 50\n",
      "Max Rate: 50\n",
      "Mean Rate: 50.0\n",
      "Max Age: 90\n",
      "Mean Age: 90.0\n",
      "NOT: 0\n",
      "NAND: 0\n",
      "AND: 0\n",
      "OR_N: 0\n",
      "OR: 0\n",
      "AND_N: 0\n",
      "NOR: 0\n",
      "XOR: 0\n",
      "EQU: 0\n",
      "UPDATE: 4\n",
      "Min Length: (50, (0, 0))\n",
      "Max Length: (50, (0, 0))\n",
      "Mean Length: 50.0\n",
      "Min Rate: 50\n",
      "Max Rate: 50\n",
      "Mean Rate: 50.0\n",
      "Max Age: 120\n",
      "Mean Age: 120.0\n",
      "NOT: 0\n",
      "NAND: 0\n",
      "AND: 0\n",
      "OR_N: 0\n",
      "OR: 0\n",
      "AND_N: 0\n",
      "NOR: 0\n",
      "XOR: 0\n",
      "EQU: 0\n",
      "UPDATE: 5\n",
      "Min Length: (50, (0, 0))\n",
      "Max Length: (50, (0, 0))\n",
      "Mean Length: 50.0\n",
      "Min Rate: 50\n",
      "Max Rate: 50\n",
      "Mean Rate: 50.0\n",
      "Max Age: 150\n",
      "Mean Age: 150.0\n",
      "NOT: 0\n",
      "NAND: 0\n",
      "AND: 0\n",
      "OR_N: 0\n",
      "OR: 0\n",
      "AND_N: 0\n",
      "NOR: 0\n",
      "XOR: 0\n",
      "EQU: 0\n"
     ]
    }
   ],
   "source": [
    "%%time\n",
    "\n",
    "# Runs the experiment and looks for the target function\n",
    "experiment.run()\n",
    "\n",
    "# Captures the emulator which computes the functions realiably for further analysis\n",
    "em = None\n",
    "\n",
    "counter = 0\n",
    "\n",
    "for i in range(N):\n",
    "    for j in range(N):\n",
    "        if experiment.world.pool.get((i,j)).original_memory == experiment.first_specimen:\n",
    "            counter += 1\n",
    "            em = experiment.world.pool.get((i,j))"
   ]
  },
  {
   "cell_type": "markdown",
   "id": "0188adcb",
   "metadata": {},
   "source": [
    "Test the Resulting Organism"
   ]
  },
  {
   "cell_type": "code",
   "execution_count": null,
   "id": "09b495cc",
   "metadata": {},
   "outputs": [],
   "source": [
    "\"\"\"\n",
    "A script to test the evolved organism\n",
    "\"\"\"\n",
    "\n",
    "world = World(1,notify_ = True)\n",
    "world.place_custom(em.original_memory)\n",
    "world.schedule()"
   ]
  },
  {
   "cell_type": "markdown",
   "id": "40fc13b5",
   "metadata": {},
   "source": [
    "Pull out statistics"
   ]
  },
  {
   "cell_type": "code",
   "execution_count": null,
   "id": "6f981467",
   "metadata": {},
   "outputs": [],
   "source": [
    "print(\"Length of the organism: \" + str(len(experiment.first_specimen)))\n",
    "\n",
    "\"\"\"\n",
    "A script to count the mutation types\n",
    "\"\"\"\n",
    "\n",
    "c = 0\n",
    "ins = 0\n",
    "d = 0\n",
    "\n",
    "for i in range(len(em.mutations)):\n",
    "    \n",
    "    if em.mutations[i][0] == \"C\":\n",
    "        c += 1\n",
    "    elif em.mutations[i][0] == \"I\":\n",
    "        ins += 1\n",
    "    elif em.mutations[i][0] == \"D\":\n",
    "        d += 1\n",
    "        \n",
    "print(\"Copy: \" + str(c))\n",
    "print(\"Insert: \" + str(ins))\n",
    "print(\"Delete: \" + str(d))\n",
    "print(\"TOTAL: \" + str(c+d+ins))"
   ]
  },
  {
   "cell_type": "code",
   "execution_count": null,
   "id": "35747bfd",
   "metadata": {},
   "outputs": [],
   "source": [
    "\"\"\"\n",
    "A Script to recreate the program from the ancestor and the mutations\n",
    "\"\"\"\n",
    "\n",
    "start = em.ancestor.copy()\n",
    "mutations = em.mutations.copy()\n",
    "\n",
    "for mutation in mutations:\n",
    "    \n",
    "    if mutation[0] == \"C\":\n",
    "        start[mutation[1]] = mutation[2]\n",
    "        \n",
    "    if mutation[0] == \"I\":\n",
    "        start.insert(mutation[1], mutation[2])\n",
    "        \n",
    "    if mutation[0] == \"D\":\n",
    "        del start[mutation[1]]\n",
    "        \n",
    "print(start == experiment.first_specimen)"
   ]
  },
  {
   "cell_type": "code",
   "execution_count": null,
   "id": "e34b438e",
   "metadata": {},
   "outputs": [],
   "source": [
    "\"\"\"\n",
    "Recreating the program at all generations\n",
    "\n",
    "After running this script, lineage[i] contains the program at generation i,\n",
    "generation 0 being the original ancestor, generation 1 its child and so on\n",
    "\"\"\"\n",
    "\n",
    "generations = mutations[-1][-1] + 1\n",
    "\n",
    "start = em.ancestor.copy()\n",
    "mutations = em.mutations.copy()\n",
    "\n",
    "temp = start.copy()\n",
    "\n",
    "lineage = [start]\n",
    "\n",
    "for i in range(generations):\n",
    "    \n",
    "    for mutation in mutations:\n",
    "        \n",
    "        if mutation[-1] == i:\n",
    "            \n",
    "            if mutation[0] == \"C\":\n",
    "                temp[mutation[1]] = mutation[2]\n",
    "        \n",
    "            if mutation[0] == \"I\":\n",
    "                temp.insert(mutation[1], mutation[2])\n",
    "        \n",
    "            if mutation[0] == \"D\":\n",
    "                del temp[mutation[1]]\n",
    "                \n",
    "    lineage.append(temp.copy())\n",
    "    \n",
    "print(\"Full lineage of the organism: \")\n",
    "for specimen in lineage:\n",
    "    print(specimen)\n",
    "    print(\"\\n\")"
   ]
  }
 ],
 "metadata": {
  "kernelspec": {
   "display_name": "Python 3",
   "language": "python",
   "name": "python3"
  },
  "language_info": {
   "codemirror_mode": {
    "name": "ipython",
    "version": 3
   },
   "file_extension": ".py",
   "mimetype": "text/x-python",
   "name": "python",
   "nbconvert_exporter": "python",
   "pygments_lexer": "ipython3",
   "version": "3.8.8"
  }
 },
 "nbformat": 4,
 "nbformat_minor": 5
}
