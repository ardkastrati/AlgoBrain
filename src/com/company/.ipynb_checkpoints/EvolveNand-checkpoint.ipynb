{
 "cells": [
  {
   "cell_type": "markdown",
   "metadata": {},
   "source": [
    "# GOAL: Evolve NAND from scratch and track its full lineage"
   ]
  },
  {
   "cell_type": "code",
   "execution_count": 12,
   "metadata": {},
   "outputs": [],
   "source": [
    "# Add Backend to path\n",
    "\n",
    "import sys\n",
    "sys.path.append('C:/Users/Aleksandar/Documents/GitHub/AlgoBrain/src/com/company/Backend')\n",
    "\n",
    "import numpy as np\n",
    "\n",
    "with open('log_nand.log') as f:\n",
    "    content = f.readlines()\n",
    "    \n",
    "con = np.array(content)\n",
    "\n",
    "from Environment import World\n",
    "from Experiment import Experiment"
   ]
  },
  {
   "cell_type": "markdown",
   "metadata": {},
   "source": [
    "The default experiment starts with a default organism and stops when an organism that can compute NAND has evolved\n",
    "\n",
    "The argument experiment.first_specimen returns the program which was reported to be able to compute NAND"
   ]
  },
  {
   "cell_type": "code",
   "execution_count": 13,
   "metadata": {},
   "outputs": [
    {
     "name": "stdout",
     "output_type": "stream",
     "text": [
      "Notifying experiment of NAND\n",
      "REACTING ON NAND\n",
      "Notifying experiment of function_IO\n",
      "Reacting on IO\n",
      "1215174251 2299241621 4160093182\n",
      "Test passed\n",
      "Notifying experiment of function_IO\n",
      "Reacting on IO\n",
      "2900550720 95558297 4217241599\n",
      "Test passed\n",
      "Notifying experiment of function_IO\n",
      "Reacting on IO\n",
      "2765188562 3690893526 2133851949\n",
      "Test passed\n",
      "Notifying experiment of function_IO\n",
      "Reacting on IO\n",
      "1190967806 1393986540 3186325011\n",
      "Test passed\n",
      "Notifying experiment of function_IO\n",
      "Reacting on IO\n",
      "3398120209 2431762931 2139029230\n",
      "Test passed\n",
      "Notifying experiment of function_IO\n",
      "Reacting on IO\n",
      "2638090294 4005902095 1945890809\n",
      "Test passed\n",
      "Notifying experiment of function_IO\n",
      "Reacting on IO\n",
      "2858796759 4049754051 1604303164\n",
      "Test passed\n",
      "Notifying experiment of function_IO\n",
      "Reacting on IO\n",
      "1768197427 3657725462 3086744557\n",
      "Test passed\n",
      "Notifying experiment of function_IO\n",
      "Reacting on IO\n",
      "1850434276 3303736610 3149201375\n",
      "Test passed\n",
      "Notifying experiment of function_IO\n",
      "Reacting on IO\n",
      "3434709326 2820342024 2011627255\n",
      "Test passed\n"
     ]
    }
   ],
   "source": [
    "experiment = Experiment()\n",
    "experiment.run()"
   ]
  },
  {
   "cell_type": "code",
   "execution_count": 15,
   "metadata": {},
   "outputs": [
    {
     "name": "stdout",
     "output_type": "stream",
     "text": [
      "[16, 20, 2, 0, 21, 2, 0, 2, 2, 9, 17, 18, 2, 2, 2, 19, 8, 13, 6, 11, 18, 8, 15, 18, 8, 2, 8, 2, 2, 2, 11, 2, 2, 2, 2, 11, 2, 2, 15, 2, 20, 19, 25, 2, 0, 17, 21, 0, 1]\n"
     ]
    }
   ],
   "source": [
    "print(experiment.first_specimen)"
   ]
  },
  {
   "cell_type": "code",
   "execution_count": 17,
   "metadata": {},
   "outputs": [],
   "source": [
    "# This organism has reported that it can compute NAND, and indeed it can\n",
    "nand0 = [25, 2, 0, 21, 2, 23, 2, 18, 16, 25, 2, 9, 24, 2, 2, 2, 7, 12, 2, 25, 2, 6, 15, 2, 23, 10, 12, 13, 2,\\\n",
    "        0, 18, 22, 8, 16, 2, 2, 14, 2, 18, 2, 15, 19, 25, 2, 0, 17, 21, 0, 1]\n",
    "\n",
    "bobo = [16, 20, 2, 0, 21, 2, 0, 2, 2, 9, 17, 18, 2, 2, 2, 19, 8, 13, 6, 11, 18, 8, 15, 18, 8, 2, 8, 2, 2, 2, 11,\\\n",
    "        2, 2, 2, 2, 11, 2, 2, 15, 2, 20, 19, 25, 2, 0, 17, 21, 0, 1]"
   ]
  },
  {
   "cell_type": "code",
   "execution_count": 19,
   "metadata": {},
   "outputs": [
    {
     "name": "stdout",
     "output_type": "stream",
     "text": [
      "\n",
      "EMULATOR AT POSITION (0, 0) COMPUTED NAND\n",
      "INPUT: [ 839358991 2429283781]\n",
      "OUTPUT:  4026300410\n",
      "\n",
      "EMULATOR AT POSITION (0, 0) COMPUTED NAND\n",
      "INPUT: [2576837448 4108827100]\n",
      "OUTPUT:  1870190263\n",
      "\n",
      "EMULATOR AT POSITION (0, 0) COMPUTED NAND\n",
      "INPUT: [ 141096728 2513499223]\n",
      "OUTPUT:  4290710511\n",
      "\n",
      "EMULATOR AT POSITION (0, 0) COMPUTED NAND\n",
      "INPUT: [434376866 517290902]\n",
      "OUTPUT:  3879464829\n"
     ]
    }
   ],
   "source": [
    "world = World(1, replacement_strategy = \"neighborhood\", cm_prob = 0, ins_prob = 0, del_prob = 0, notify_ = True)\n",
    "\n",
    "world.place_custom(bobo)\n",
    "\n",
    "world.schedule(800)"
   ]
  },
  {
   "cell_type": "code",
   "execution_count": 24,
   "metadata": {},
   "outputs": [],
   "source": [
    "# However it seems to not exhibit very stable behaviour"
   ]
  },
  {
   "cell_type": "code",
   "execution_count": 28,
   "metadata": {},
   "outputs": [
    {
     "name": "stdout",
     "output_type": "stream",
     "text": [
      "\n",
      "EMULATOR AT POSITION (0, 0) COMPUTED NAND\n",
      "INPUT: [1890493126 3285598052]\n",
      "OUTPUT:  3212434875\n",
      "\n",
      "EMULATOR AT POSITION (0, 0) COMPUTED NAND\n",
      "INPUT: [3112505611 2226967559]\n",
      "OUTPUT:  2138828796\n",
      "\n",
      "EMULATOR AT POSITION (0, 0) COMPUTED NAND\n",
      "INPUT: [1745483728  390324669]\n",
      "OUTPUT:  4294844015\n",
      "\n",
      "EMULATOR AT POSITION (0, 0) COMPUTED NAND\n",
      "INPUT: [1876868347  686147697]\n",
      "OUTPUT:  3610998670\n",
      "\n",
      "EMULATOR AT POSITION (0, 0) COMPUTED NAND\n",
      "INPUT: [752665853 686049580]\n",
      "OUTPUT:  3611017171\n"
     ]
    }
   ],
   "source": [
    "for i in range(10):\n",
    "    \n",
    "    world = World(1, replacement_strategy = \"neighborhood\", cm_prob = 0, ins_prob = 0, del_prob = 0, notify_ = True)\n",
    "\n",
    "    world.place_custom(nand0)\n",
    "\n",
    "    world.schedule(80)"
   ]
  },
  {
   "cell_type": "code",
   "execution_count": null,
   "metadata": {},
   "outputs": [],
   "source": [
    "# Kind of weird behavior"
   ]
  },
  {
   "cell_type": "code",
   "execution_count": 4,
   "metadata": {},
   "outputs": [],
   "source": [
    "nand1 = [2, 2, 2, 0, 21, 2, 7, 16, 15, 2, 2, 20, 2, 25, 2, 2, 17, 8, 10, 15, 1, 15, 6, 5, 2, 6, 12, 2, 2, 3, 2, 14,\\\n",
    "         2, 0, 23, 18, 2, 8, 15, 4, 14, 18, 19, 25, 2, 16, 17, 21, 0, 1]\n",
    "\n",
    "nand2 = [16, 9, 2, 0, 21, 2, 2, 8, 15, 2, 18, 2, 15, 11, 19, 2, 4, 8, 3, 2, 24, 2, 25, 2, 8, 6, 2, 25, 16, 3, 18, 13,\\\n",
    "         15, 2, 2, 2, 2, 8, 25, 4, 12, 23, 19, 25, 2, 0, 17, 14, 0, 1]\n",
    "\n",
    "nand3 = [19, 20, 2, 0, 21, 2, 2, 18, 7, 8, 18, 2, 2, 7, 2, 2, 2, 2, 15, 18, 4, 11, 25, 11, 6, 16, 1, 9, 2, 2, 2, 1, 2,\\\n",
    "         2, 9, 14, 2, 2, 2, 2, 20, 20, 19, 25, 2, 0, 17, 21, 0, 1]"
   ]
  },
  {
   "cell_type": "code",
   "execution_count": 5,
   "metadata": {},
   "outputs": [
    {
     "name": "stdout",
     "output_type": "stream",
     "text": [
      "\n",
      "EMULATOR AT POSITION (0, 0) COMPUTED NAND\n",
      "INPUT: [4067384876  651896568]\n",
      "OUTPUT:  3719625175\n",
      "\n",
      "EMULATOR AT POSITION (0, 0) COMPUTED NAND\n",
      "INPUT: [1241367266 3693498861]\n",
      "OUTPUT:  3084631839\n",
      "\n",
      "EMULATOR AT POSITION (0, 0) COMPUTED NAND\n",
      "INPUT: [3799906377 2178664448]\n",
      "OUTPUT:  2141599743\n",
      "\n",
      "EMULATOR AT POSITION (0, 0) COMPUTED NAND\n",
      "INPUT: [2595744215 4084388280]\n",
      "OUTPUT:  1842167407\n",
      "\n",
      "EMULATOR AT POSITION (0, 0) COMPUTED NAND\n",
      "INPUT: [4002736723   95338849]\n",
      "OUTPUT:  4219158462\n",
      "\n",
      "EMULATOR AT POSITION (0, 0) COMPUTED NAND\n",
      "INPUT: [3023749387 2161512029]\n",
      "OUTPUT:  2146303990\n",
      "\n",
      "EMULATOR AT POSITION (0, 0) COMPUTED NAND\n",
      "INPUT: [3409491199 1711722687]\n",
      "OUTPUT:  3187633984\n",
      "\n",
      "EMULATOR AT POSITION (0, 0) COMPUTED NAND\n",
      "INPUT: [2915817820 1540331948]\n",
      "OUTPUT:  4130629363\n",
      "\n",
      "EMULATOR AT POSITION (0, 0) COMPUTED NAND\n",
      "INPUT: [ 310733787 2827585088]\n",
      "OUTPUT:  4286512575\n",
      "\n",
      "EMULATOR AT POSITION (0, 0) COMPUTED NAND\n",
      "INPUT: [4237818015 1466267393]\n",
      "OUTPUT:  2885324798\n"
     ]
    }
   ],
   "source": [
    "for i in range(10):\n",
    "    \n",
    "    world = World(1, replacement_strategy = \"neighborhood\", cm_prob = 0, ins_prob = 0, del_prob = 0, notify_ = True)\n",
    "\n",
    "    world.place_custom(nand3)\n",
    "\n",
    "    world.schedule(100)"
   ]
  },
  {
   "cell_type": "markdown",
   "metadata": {},
   "source": [
    "Much more stable behavior"
   ]
  },
  {
   "cell_type": "markdown",
   "metadata": {},
   "source": [
    "What the hell is happening here? On some runs it computes six nands, on other runs only three/four. Why is this unstable?\n",
    "\n",
    "To answer this question I would probably need to look at how exactly the program works and I'm not ready to do that"
   ]
  },
  {
   "cell_type": "markdown",
   "metadata": {},
   "source": [
    "## LINEAGE TRACKING:\n",
    "\n",
    "The following organism was reported to be able to compute NAND:\n",
    "\n",
    "[23, 20, 2, 0, 21, 2, 6, 1, 19, 13, 18, 2, 25, 9, 2, 18, 16, 15, 15, 2, 2, 2, 18, 7, 2, 2, 2, 18, 2, 20, 10, 8, 18, 6, 4, 19, 8, 8, 17, 2, 6, 20, 19, 25, 2, 0, 17, 21, 0, 1]\n",
    "\n",
    "It can indeed compute NAND and reproduce itself.\n",
    "\n",
    "All of the divisions in this test run were logged into the file \"log_nand.log\", which was loaded at the beginning of the notebook. Here's how to extract the entire lineage of the final organism. The explanation of the code is to be found in the \"logging_test\" notebook"
   ]
  },
  {
   "cell_type": "code",
   "execution_count": 11,
   "metadata": {},
   "outputs": [
    {
     "name": "stdout",
     "output_type": "stream",
     "text": [
      "Full NAND lineage:\n",
      "\n",
      "[16, 20, 2, 0, 21, 2, 2, 2, 2, 2, 2, 2, 2, 2, 2, 2, 2, 2, 2, 2, 2, 2, 2, 2, 2, 2, 2, 2, 2, 2, 2, 2, 2, 2, 2, 2, 2, 2, 2, 2, 2, 20, 19, 25, 2, 0, 17, 21, 0, 1]\n",
      "\n",
      "[16, 20, 2, 0, 21, 2, 2, 2, 2, 2, 2, 2, 2, 2, 2, 2, 2, 2, 2, 2, 2, 2, 2, 2, 2, 2, 2, 2, 2, 2, 2, 2, 2, 2, 2, 2, 2, 2, 2, 2, 2, 20, 19, 25, 2, 0, 17, 21, 0, 1]\n",
      "\n",
      "[16, 20, 2, 0, 21, 2, 2, 2, 2, 2, 2, 2, 2, 2, 2, 2, 2, 2, 2, 2, 2, 2, 2, 2, 2, 2, 2, 2, 2, 2, 2, 2, 2, 6, 2, 22, 2, 2, 2, 2, 2, 20, 19, 25, 2, 0, 17, 21, 0, 1]\n",
      "\n",
      "[16, 20, 2, 0, 21, 2, 2, 2, 2, 2, 2, 2, 2, 2, 2, 2, 2, 2, 2, 2, 2, 2, 2, 2, 2, 2, 2, 2, 2, 2, 2, 2, 2, 6, 2, 6, 8, 2, 2, 2, 2, 20, 19, 25, 2, 0, 17, 21, 0, 1]\n",
      "\n",
      "[16, 20, 2, 0, 21, 2, 2, 2, 2, 2, 2, 2, 2, 4, 2, 2, 14, 2, 12, 2, 2, 2, 18, 2, 2, 2, 2, 2, 2, 2, 2, 2, 2, 6, 2, 6, 8, 2, 2, 2, 6, 20, 19, 25, 2, 0, 17, 21, 0, 1]\n",
      "\n",
      "[16, 20, 2, 0, 21, 2, 2, 2, 2, 2, 2, 2, 16, 4, 2, 18, 14, 2, 12, 2, 2, 2, 18, 2, 2, 2, 2, 2, 2, 2, 2, 2, 2, 6, 2, 17, 8, 2, 2, 2, 6, 20, 19, 25, 2, 0, 17, 21, 0, 1]\n",
      "\n",
      "[5, 20, 2, 0, 21, 2, 2, 2, 2, 2, 2, 2, 16, 4, 2, 18, 14, 2, 12, 2, 2, 2, 18, 2, 2, 2, 2, 2, 2, 2, 2, 2, 22, 6, 2, 17, 8, 25, 2, 2, 6, 20, 19, 25, 2, 0, 17, 21, 0, 1]\n",
      "\n",
      "[5, 20, 2, 0, 21, 2, 2, 2, 2, 2, 2, 2, 16, 4, 2, 18, 14, 2, 12, 2, 2, 2, 18, 2, 2, 2, 2, 2, 2, 2, 2, 2, 22, 6, 4, 17, 8, 25, 2, 2, 6, 20, 19, 25, 2, 0, 17, 21, 0, 1]\n",
      "\n",
      "[5, 20, 2, 0, 21, 2, 2, 1, 2, 2, 2, 2, 16, 4, 2, 18, 2, 2, 12, 2, 2, 2, 18, 2, 2, 2, 2, 18, 2, 2, 2, 2, 22, 6, 4, 17, 8, 25, 2, 2, 6, 20, 19, 25, 2, 0, 17, 21, 0, 1]\n",
      "\n",
      "[5, 20, 2, 0, 21, 2, 2, 1, 2, 2, 2, 2, 16, 4, 2, 18, 2, 2, 12, 2, 2, 2, 18, 2, 2, 2, 2, 18, 2, 2, 2, 2, 9, 6, 4, 17, 8, 25, 17, 2, 6, 20, 19, 25, 2, 0, 17, 21, 0, 1]\n",
      "\n",
      "[5, 20, 2, 0, 21, 2, 2, 1, 2, 2, 2, 2, 16, 4, 2, 18, 16, 2, 12, 2, 2, 2, 18, 2, 2, 2, 2, 18, 2, 20, 2, 2, 9, 6, 4, 17, 8, 1, 17, 2, 6, 20, 19, 25, 2, 0, 17, 21, 0, 1]\n",
      "\n",
      "[5, 20, 2, 0, 21, 2, 2, 1, 2, 2, 15, 2, 16, 4, 2, 18, 16, 2, 12, 2, 2, 2, 18, 2, 2, 2, 2, 18, 2, 20, 2, 2, 9, 6, 4, 17, 8, 1, 17, 2, 6, 20, 19, 25, 2, 0, 17, 21, 0, 1]\n",
      "\n",
      "[5, 20, 2, 0, 21, 2, 2, 1, 2, 2, 15, 2, 25, 4, 2, 18, 16, 2, 12, 2, 2, 2, 18, 7, 2, 2, 2, 18, 2, 20, 2, 2, 9, 6, 4, 17, 8, 1, 17, 2, 6, 20, 19, 25, 2, 0, 17, 21, 0, 1]\n",
      "\n",
      "[5, 20, 2, 0, 21, 2, 17, 1, 2, 13, 15, 2, 25, 9, 2, 18, 16, 2, 12, 2, 2, 2, 18, 7, 2, 2, 2, 18, 2, 20, 2, 2, 9, 6, 4, 17, 8, 1, 17, 2, 6, 20, 19, 25, 2, 0, 17, 21, 0, 1]\n",
      "\n",
      "[5, 20, 2, 0, 21, 2, 11, 1, 19, 13, 15, 2, 25, 9, 2, 18, 16, 2, 12, 2, 2, 2, 18, 7, 2, 2, 2, 18, 2, 20, 2, 8, 9, 6, 4, 17, 8, 1, 17, 2, 6, 20, 19, 25, 2, 0, 17, 21, 0, 1]\n",
      "\n",
      "[5, 20, 2, 0, 21, 2, 11, 1, 19, 13, 15, 2, 25, 9, 2, 18, 16, 15, 12, 2, 2, 2, 18, 7, 2, 2, 2, 18, 2, 20, 2, 8, 9, 6, 4, 19, 8, 1, 17, 2, 6, 20, 19, 25, 2, 0, 17, 21, 0, 1]\n",
      "\n",
      "[23, 20, 2, 0, 21, 2, 11, 1, 19, 13, 15, 2, 25, 9, 2, 18, 16, 15, 12, 2, 2, 2, 18, 7, 2, 2, 2, 18, 2, 20, 2, 8, 18, 6, 4, 19, 8, 8, 17, 2, 6, 20, 19, 25, 2, 0, 17, 21, 0, 1]\n",
      "\n",
      "[23, 20, 2, 0, 21, 2, 11, 1, 19, 13, 15, 2, 25, 9, 2, 18, 16, 15, 15, 2, 2, 2, 18, 7, 2, 2, 2, 18, 2, 20, 10, 8, 18, 6, 4, 19, 8, 8, 17, 2, 6, 20, 19, 25, 2, 0, 17, 21, 0, 1]\n",
      "\n",
      "[23, 20, 2, 0, 21, 2, 6, 1, 19, 13, 15, 2, 25, 9, 2, 18, 16, 15, 15, 2, 2, 2, 18, 7, 2, 2, 2, 18, 2, 20, 10, 8, 18, 6, 4, 19, 8, 8, 17, 2, 6, 20, 19, 25, 2, 0, 17, 21, 0, 1]\n",
      "\n",
      "[23, 20, 2, 0, 21, 2, 6, 1, 19, 13, 18, 2, 25, 9, 2, 18, 16, 15, 15, 2, 2, 2, 18, 7, 2, 2, 2, 18, 2, 20, 10, 8, 18, 6, 4, 19, 8, 8, 17, 2, 6, 20, 19, 25, 2, 0, 17, 21, 0, 1]\n",
      "\n"
     ]
    }
   ],
   "source": [
    "current = '[23, 20, 2, 0, 21, 2, 6, 1, 19, 13, 18, 2, 25, 9, 2, 18, 16, 15, 15, 2, 2, 2, 18, 7, 2, 2, 2, 18, 2, 20, 10, 8, 18, 6, 4, 19, 8, 8, 17, 2, 6, 20, 19, 25, 2, 0, 17, 21, 0, 1]\\n'\n",
    "\n",
    "lineage = []\n",
    "lineage.append(current)\n",
    "\n",
    "found_start = False\n",
    "\n",
    "loc_old = -1\n",
    "loc_new = -1\n",
    "\n",
    "while not found_start:\n",
    "    # Find the last occurence of the current organism as a child\n",
    "    # If all of the occurences of the current organism are as parent, we have found the start of the lineage\n",
    "    \n",
    "    loc_old = loc_new\n",
    "    \n",
    "    temp = 0\n",
    "    location = np.where(con == current)[0][-1]\n",
    "    \n",
    "    for i in np.where(con == current)[0]:\n",
    "        if con[i+1] == \"\\n\" and i <= location:\n",
    "            location = i\n",
    "            temp = 1\n",
    "            \n",
    "    if temp == 0:\n",
    "        found_start = True\n",
    "        \n",
    "    loc_new = location\n",
    "    \n",
    "    if loc_old == loc_new:\n",
    "        found_start = True\n",
    "    else:\n",
    "        # Find the parent, append it to lineage\n",
    "        lineage.append(con[location-1])\n",
    "    \n",
    "        # current is now the parent\n",
    "        current = con[location-1]\n",
    "\n",
    "lineage.reverse()\n",
    "\n",
    "print(\"Full NAND lineage:\\n\")\n",
    "\n",
    "for element in lineage:\n",
    "    print(element)"
   ]
  },
  {
   "cell_type": "code",
   "execution_count": null,
   "metadata": {},
   "outputs": [],
   "source": []
  }
 ],
 "metadata": {
  "kernelspec": {
   "display_name": "Python 3",
   "language": "python",
   "name": "python3"
  },
  "language_info": {
   "codemirror_mode": {
    "name": "ipython",
    "version": 3
   },
   "file_extension": ".py",
   "mimetype": "text/x-python",
   "name": "python",
   "nbconvert_exporter": "python",
   "pygments_lexer": "ipython3",
   "version": "3.8.5"
  }
 },
 "nbformat": 4,
 "nbformat_minor": 4
}
