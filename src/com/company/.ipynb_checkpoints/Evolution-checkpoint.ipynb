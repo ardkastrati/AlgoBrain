{
 "cells": [
  {
   "cell_type": "markdown",
   "id": "10122b59",
   "metadata": {},
   "source": [
    "# Running Experiments for Default to NOR evolution with different system parameters."
   ]
  },
  {
   "cell_type": "code",
   "execution_count": null,
   "id": "c4c070b3",
   "metadata": {},
   "outputs": [],
   "source": [
    "import numpy as np\n",
    "\n",
    "# Add Backend to path\n",
    "import sys\n",
    "#sys.path.append('C:/Users/eeveetza/Documents/GitHub/AlgoBrain/src/com/company/Backend')\n",
    "sys.path.append('C:/Users/alexa/OneDrive/Documents/GitHub/AlgoBrain/src/com/company/Backend')\n",
    "#sys.path.append('C:/Users/Tbuob/OneDrive/Dokumente/GitHub/AlgoBrain/src/com/company/Backend')\n",
    "\n",
    "from Environment import World\n",
    "from Experiment import Experiment"
   ]
  },
  {
   "cell_type": "markdown",
   "id": "e9af5b1a",
   "metadata": {},
   "source": [
    "Define the Experiment"
   ]
  },
  {
   "cell_type": "code",
   "execution_count": null,
   "id": "86157a7f",
   "metadata": {},
   "outputs": [],
   "source": [
    "%%time\n",
    "\n",
    "# Define the size of the pool here:\n",
    "N = 30\n",
    "\n",
    "# Define the start, targ£et and parameters of the experiment\n",
    "\n",
    "# stat_cycles determines how often you're informed of the statistics of the population\n",
    "\n",
    "experiment = Experiment(start_organism=\"default\", target_function=\"nor\", ins_prob = 0.05,\\\n",
    "                        del_prob = 0.05, cm_prob = 0.01,N=N, update_cycles = 20, instruction_set = \"default\",\\\n",
    "                        point_mutations = True, pm_updates = 200)"
   ]
  },
  {
   "cell_type": "markdown",
   "id": "76e0802a",
   "metadata": {},
   "source": [
    "Run the Experiment"
   ]
  },
  {
   "cell_type": "code",
   "execution_count": null,
   "id": "c4018af1",
   "metadata": {},
   "outputs": [],
   "source": [
    "%%time\n",
    "\n",
    "# Runs the experiment and looks for the target function\n",
    "experiment.run()"
   ]
  },
  {
   "cell_type": "code",
   "execution_count": null,
   "id": "280081da",
   "metadata": {},
   "outputs": [],
   "source": [
    "# Captures the emulator which computes the functions realiably for further analysis\n",
    "em = None\n",
    "\n",
    "counter = 0\n",
    "\n",
    "for i in range(N):\n",
    "    for j in range(N):\n",
    "        if experiment.world.pool.get((i,j)).original_memory == experiment.first_specimen:\n",
    "            counter += 1\n",
    "            em = experiment.world.pool.get((i,j))"
   ]
  },
  {
   "cell_type": "markdown",
   "id": "dc64efd7",
   "metadata": {},
   "source": [
    "Display Experiment Statistics and Update"
   ]
  },
  {
   "cell_type": "code",
   "execution_count": null,
   "id": "bd6a348c",
   "metadata": {},
   "outputs": [],
   "source": [
    "print(\"Update: \" + str(experiment.update))\n",
    "experiment.display_statistics()"
   ]
  },
  {
   "cell_type": "markdown",
   "id": "8c657e51",
   "metadata": {},
   "source": [
    "Test the Resulting Organism"
   ]
  },
  {
   "cell_type": "code",
   "execution_count": null,
   "id": "e41fa078",
   "metadata": {},
   "outputs": [],
   "source": [
    "\"\"\"£\n",
    "A script to test the evolved organism\n",
    "\"\"\"\n",
    "\n",
    "world = World(1,notify_ = True)\n",
    "world.place_custom(em.original_memory)\n",
    "world.schedule(1000)"
   ]
  },
  {
   "cell_type": "markdown",
   "id": "0c18fcb9",
   "metadata": {},
   "source": [
    "Pull out statistics"
   ]
  },
  {
   "cell_type": "code",
   "execution_count": null,
   "id": "69cb0986",
   "metadata": {},
   "outputs": [],
   "source": [
    "print(\"Length of the organism: \" + str(len(experiment.first_specimen)))\n",
    "\n",
    "\"\"\"\n",
    "A script to count the mutation types\n",
    "\"\"\"\n",
    "\n",
    "c = 0\n",
    "ins = 0\n",
    "d = 0\n",
    "\n",
    "for i in range(len(em.mutations)):\n",
    "    \n",
    "    if em.mutations[i][0] == \"C\":\n",
    "        c += 1\n",
    "    elif em.mutations[i][0] == \"I\":\n",
    "        ins += 1\n",
    "    elif em.mutations[i][0] == \"D\":\n",
    "        d += 1\n",
    "        \n",
    "print(\"Copy: \" + str(c))\n",
    "print(\"Insert: \" + str(ins))\n",
    "print(\"Delete: \" + str(d))\n",
    "print(\"TOTAL: \" + str(c+d+ins))"
   ]
  },
  {
   "cell_type": "code",
   "execution_count": null,
   "id": "ee1a4678",
   "metadata": {},
   "outputs": [],
   "source": [
    "print(\"Number of generations: \" + str(em.mutations[-1][-1]))"
   ]
  },
  {
   "cell_type": "code",
   "execution_count": null,
   "id": "e840939e",
   "metadata": {},
   "outputs": [],
   "source": [
    "\"\"\"\n",
    "A Script to recreate the program from the ancestor and the mutations\n",
    "\"\"\"\n",
    "\n",
    "start = em.ancestor.copy()\n",
    "mutations = em.mutations.copy()\n",
    "\n",
    "for mutation in mutations:\n",
    "    \n",
    "    if mutation[0] == \"C\":\n",
    "        start[mutation[1]] = mutation[2]\n",
    "        \n",
    "    if mutation[0] == \"I\":\n",
    "        start.insert(mutation[1], mutation[2])\n",
    "        \n",
    "    if mutation[0] == \"D\":\n",
    "        del start[mutation[1]]\n",
    "        \n",
    "print(start == experiment.first_specimen)"
   ]
  },
  {
   "cell_type": "code",
   "execution_count": null,
   "id": "c5243cb5",
   "metadata": {},
   "outputs": [],
   "source": [
    "\"\"\"\n",
    "Recreating the program at all generations\n",
    "\n",
    "After running this script, lineage[i] contains the program at generation i,\n",
    "generation 0 being the original ancestor, generation 1 its child and so on\n",
    "\"\"\"\n",
    "\n",
    "generations = mutations[-1][-1] + 1\n",
    "\n",
    "start = em.ancestor.copy()\n",
    "mutations = em.mutations.copy()\n",
    "\n",
    "temp = start.copy()\n",
    "\n",
    "lineage = [start]\n",
    "\n",
    "for i in range(generations):\n",
    "    \n",
    "    for mutation in mutations:\n",
    "        \n",
    "        if mutation[-1] == i:\n",
    "            \n",
    "            if mutation[0] == \"C\":\n",
    "                temp[mutation[1]] = mutation[2]\n",
    "        \n",
    "            if mutation[0] == \"I\":\n",
    "                temp.insert(mutation[1], mutation[2])\n",
    "        \n",
    "            if mutation[0] == \"D\":\n",
    "                del temp[mutation[1]]\n",
    "                \n",
    "    lineage.append(temp.copy())\n",
    "    \n",
    "print(\"Full lineage of the organism: \")\n",
    "for specimen in lineage:\n",
    "    print(specimen)\n",
    "    print(\"\\n\")"
   ]
  },
  {
   "cell_type": "code",
   "execution_count": null,
   "id": "01d0525d",
   "metadata": {},
   "outputs": [],
   "source": [
    "i = 0\n",
    "for specimen in lineage:\n",
    "    print(\"ORGANISM \" + str(i))\n",
    "    world1 = World(1,notify_ = True)\n",
    "    world1.place_custom(specimen)\n",
    "    world1.schedule(400)\n",
    "    i+=1\n",
    "    print(\"\\n\")"
   ]
  },
  {
   "cell_type": "code",
   "execution_count": null,
   "id": "5ae797ce",
   "metadata": {},
   "outputs": [],
   "source": []
  }
 ],
 "metadata": {
  "kernelspec": {
   "display_name": "Python 3",
   "language": "python",
   "name": "python3"
  },
  "language_info": {
   "codemirror_mode": {
    "name": "ipython",
    "version": 3
   },
   "file_extension": ".py",
   "mimetype": "text/x-python",
   "name": "python",
   "nbconvert_exporter": "python",
   "pygments_lexer": "ipython3",
   "version": "3.8.8"
  }
 },
 "nbformat": 4,
 "nbformat_minor": 5
}
